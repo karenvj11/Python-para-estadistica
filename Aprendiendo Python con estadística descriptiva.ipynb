{
 "cells": [
  {
   "cell_type": "markdown",
   "metadata": {},
   "source": [
    "# Proyecto: Aprendiendo Python con estadística descriptiva"
   ]
  },
  {
   "cell_type": "markdown",
   "metadata": {},
   "source": [
    "## Objetivo:\n",
    "<font size=\"3\">El proyecto consiste en elaborar tablas y gráficas estadísticas a partir de alturas y pesos de deportistas de baloncesto, fútbol, fútbol americano y sumo. Calcularás índices de masas corporales para determinar condiciones de salud y descargarás archivos con datos de promedios de índices de masas corporales de hombres y mujeres para mostrar tendencias mundiales y por países. Durante el proceso aprenderás a usar Jupyter Notebook para editar y ejecutar programas de Python; procesar números en listas, arreglos y tablas; controlar la secuencia de ejecución de los programas; definir tus propias funciones, y utilizar funciones y módulos de las bibliotecas pandas, matplotlib.pyplot y NumPy. Al completar este proyecto podrás comenzar a tabular y graficar datos y estadísticas descriptivas de muestras y poblaciones.\n",
    "\n",
    "</font>\n",
    "<a id='inicio'></a>"
   ]
  },
  {
   "cell_type": "markdown",
   "metadata": {},
   "source": [
    "<font size=\"3\">Tarea</font> | <font size=\"3\">Título</font> | <font size=\"3\">Objetivo</font>\n",
    ":-----: | ------- | -------\n",
    "<font size=\"3\">[1](#tarea1)</font> | <font size=\"3\">**Procesando datos numéricos**</font>| <font size=\"3\">Procesar listas de datos numéricos con objetos y funciones de Python.</font>\n",
    "<font size=\"3\">[2](#tarea2)</font> | <font size=\"3\">**Tabulando datos**</font> | <font size=\"3\">Elaborar tablas de frecuencias.</font>\n",
    "<font size=\"3\">[3](#tarea3)</font> | <font size=\"3\">**Graficando datos**</font> | <font size=\"3\">Mostrar histogramas y gráficos de dos variables.</font>\n",
    "<font size=\"3\">[4](#tarea4)</font> | <font size=\"3\">**Calculando tendencias centrales: medias, medianas y modas**</font> | <font size=\"3\">Calcular promedios, medianas y modas; mostrar barras.</font>\n",
    "<font size=\"3\">[5](#tarea5)</font> | <font size=\"3\">**Calculando dispersiones: rangos, varianzas y desviaciones estándares**</font> | <font size=\"3\">Calcular rangos, rangos intercuartiles, varianzas y desviaciones estándares.</font>\n",
    "<font size=\"3\">[6](#tarea6)</font> | <font size=\"3\">**Comparando índices de masas corporales**</font> | <font size=\"3\">Comparar las condiciones de salud entre deportistas.</font>\n",
    "<font size=\"3\">[7](#tarea7)</font> | <font size=\"3\">**Almacenando y leyendo archivos**</font> | <font size=\"3\">Almacenar y leer archivos de datos; descargar datos de Internet.</font>"
   ]
  },
  {
   "cell_type": "markdown",
   "metadata": {},
   "source": [
    "<a id='tarea1'></a>\n",
    "<br><img src=\"linea.png\">\n",
    "# [Tarea 1](#inicio)\n",
    "# Procesando datos numéricos\n",
    "<br><img src=\"linea.png\"><br>"
   ]
  },
  {
   "cell_type": "markdown",
   "metadata": {},
   "source": [
    "## 1.1 Objetos y operaciones\n",
    "### Asignación y visualización"
   ]
  },
  {
   "cell_type": "code",
   "execution_count": 5,
   "metadata": {},
   "outputs": [
    {
     "name": "stdout",
     "output_type": "stream",
     "text": [
      "10\n"
     ]
    }
   ],
   "source": [
    "a = 10\n",
    "print(a)"
   ]
  },
  {
   "cell_type": "code",
   "execution_count": 6,
   "metadata": {},
   "outputs": [
    {
     "data": {
      "text/plain": [
       "int"
      ]
     },
     "execution_count": 6,
     "metadata": {},
     "output_type": "execute_result"
    }
   ],
   "source": [
    "type(a)     # retorna el tipo del objeto"
   ]
  },
  {
   "cell_type": "markdown",
   "metadata": {},
   "source": [
    "### Expresiones numéricas"
   ]
  },
  {
   "cell_type": "code",
   "execution_count": 7,
   "metadata": {},
   "outputs": [
    {
     "name": "stdout",
     "output_type": "stream",
     "text": [
      "10 7 14 2.0\n"
     ]
    }
   ],
   "source": [
    "a = 10                  # a es el objeto entero 10\n",
    "b = 3 + 4               # b es el objeto entero 7, la suma de 3 y 4\n",
    "c = 7 * 2               # c es el objeto entero 14, la multiplicación de 7 y 2\n",
    "d = 20 / a              # d es el objeto decimal 2.0, la división decimal de 20 entre 10\n",
    "\n",
    "print(a, b, c, d)       # muestra los valores de los objetos separados por espacios"
   ]
  },
  {
   "cell_type": "code",
   "execution_count": 8,
   "metadata": {},
   "outputs": [
    {
     "name": "stdout",
     "output_type": "stream",
     "text": [
      "2 6 125 6.0\n"
     ]
    }
   ],
   "source": [
    "e = 20 // a             # e es el objeto entero 2, la división de 20 entre 10\n",
    "f = 20 % b              # f es el objeto entero 6, el residuo de 20 entre 7\n",
    "g = 5**3                # g es el objeto entero 125, 5 al cubo\n",
    "h = 36 ** 0.5           # h es el objeto decimal 6.0, la raíz cuadrada de 36\n",
    "\n",
    "print(e, f, g, h)       "
   ]
  },
  {
   "cell_type": "code",
   "execution_count": 9,
   "metadata": {},
   "outputs": [
    {
     "data": {
      "text/plain": [
       "(10, 7, 14, 2.0)"
      ]
     },
     "execution_count": 9,
     "metadata": {},
     "output_type": "execute_result"
    }
   ],
   "source": [
    "a, b, c, d      # muestra una tupla: valores entre paréntesis y separados por comas"
   ]
  },
  {
   "cell_type": "markdown",
   "metadata": {},
   "source": [
    "### Aproximaciones decimales y la función round"
   ]
  },
  {
   "cell_type": "code",
   "execution_count": 10,
   "metadata": {},
   "outputs": [
    {
     "data": {
      "text/plain": [
       "10.46"
      ]
     },
     "execution_count": 10,
     "metadata": {},
     "output_type": "execute_result"
    }
   ],
   "source": [
    "round(10.456, 2)    # aproximación a dos cifras decimales"
   ]
  },
  {
   "cell_type": "code",
   "execution_count": 11,
   "metadata": {},
   "outputs": [
    {
     "data": {
      "text/plain": [
       "11"
      ]
     },
     "execution_count": 11,
     "metadata": {},
     "output_type": "execute_result"
    }
   ],
   "source": [
    "round(10.8)     # aproximación a entero"
   ]
  },
  {
   "cell_type": "code",
   "execution_count": 12,
   "metadata": {},
   "outputs": [
    {
     "data": {
      "text/plain": [
       "1.2000000000000002"
      ]
     },
     "execution_count": 12,
     "metadata": {},
     "output_type": "execute_result"
    }
   ],
   "source": [
    "0.8 + 0.4       # no resulta en 1.2"
   ]
  },
  {
   "cell_type": "code",
   "execution_count": 13,
   "metadata": {},
   "outputs": [
    {
     "data": {
      "text/plain": [
       "1.2"
      ]
     },
     "execution_count": 13,
     "metadata": {},
     "output_type": "execute_result"
    }
   ],
   "source": [
    "round(0.8 + 0.4, 1)     # redondeo a una cifra decimal"
   ]
  },
  {
   "cell_type": "code",
   "execution_count": 14,
   "metadata": {},
   "outputs": [
    {
     "data": {
      "text/plain": [
       "10.4"
      ]
     },
     "execution_count": 14,
     "metadata": {},
     "output_type": "execute_result"
    }
   ],
   "source": [
    "round(10.45, 1)    # el resultado es correcto (utiliza otro método de redondeo)"
   ]
  },
  {
   "cell_type": "markdown",
   "metadata": {},
   "source": [
    "### Consiguiendo ayuda"
   ]
  },
  {
   "cell_type": "code",
   "execution_count": 15,
   "metadata": {},
   "outputs": [
    {
     "name": "stdout",
     "output_type": "stream",
     "text": [
      "Help on built-in function round in module builtins:\n",
      "\n",
      "round(number, ndigits=None)\n",
      "    Round a number to a given precision in decimal digits.\n",
      "    \n",
      "    The return value is an integer if ndigits is omitted or None.  Otherwise\n",
      "    the return value has the same type as the number.  ndigits may be negative.\n",
      "\n"
     ]
    }
   ],
   "source": [
    "help(round)     # información sobre round"
   ]
  },
  {
   "cell_type": "code",
   "execution_count": 16,
   "metadata": {},
   "outputs": [],
   "source": [
    "# información sobre print en ventana aparte\n",
    "print?"
   ]
  },
  {
   "cell_type": "markdown",
   "metadata": {},
   "source": [
    "## 1.2 Listas"
   ]
  },
  {
   "cell_type": "code",
   "execution_count": 17,
   "metadata": {},
   "outputs": [
    {
     "name": "stdout",
     "output_type": "stream",
     "text": [
      "[10, 7, 'treinta', 16.0]\n"
     ]
    }
   ],
   "source": [
    "lista = [10, b, 'treinta', c + d]   # una lista de cuatro elementos\n",
    "print(lista)                        # muestra la lista"
   ]
  },
  {
   "cell_type": "code",
   "execution_count": 18,
   "metadata": {},
   "outputs": [
    {
     "data": {
      "text/plain": [
       "(10, 7, 'treinta', 16.0)"
      ]
     },
     "execution_count": 18,
     "metadata": {},
     "output_type": "execute_result"
    }
   ],
   "source": [
    "lista[0], lista[1], lista[2], lista[3]   # muestra los elementos"
   ]
  },
  {
   "cell_type": "code",
   "execution_count": 19,
   "metadata": {},
   "outputs": [
    {
     "data": {
      "text/plain": [
       "16.0"
      ]
     },
     "execution_count": 19,
     "metadata": {},
     "output_type": "execute_result"
    }
   ],
   "source": [
    "lista[-1]       # último elemento"
   ]
  },
  {
   "cell_type": "code",
   "execution_count": 20,
   "metadata": {},
   "outputs": [
    {
     "data": {
      "text/plain": [
       "[10, 7, 30, 16.0]"
      ]
     },
     "execution_count": 20,
     "metadata": {},
     "output_type": "execute_result"
    }
   ],
   "source": [
    "lista[2] = 30   # el elemento en la posición 2 (tercer elemento) es 30\n",
    "lista"
   ]
  },
  {
   "cell_type": "markdown",
   "metadata": {},
   "source": [
    "### Método append"
   ]
  },
  {
   "cell_type": "code",
   "execution_count": 21,
   "metadata": {},
   "outputs": [
    {
     "data": {
      "text/plain": [
       "[10, 7, 30, 16.0, 1.72, 0]"
      ]
     },
     "execution_count": 21,
     "metadata": {},
     "output_type": "execute_result"
    }
   ],
   "source": [
    "lista.append(1.72)      # agrega el objeto decimal 1.72 a lista\n",
    "lista.append(0)         # agrega el objeto entero 0 a lista\n",
    "lista"
   ]
  },
  {
   "cell_type": "markdown",
   "metadata": {},
   "source": [
    "### Funciones sum y len"
   ]
  },
  {
   "cell_type": "code",
   "execution_count": 22,
   "metadata": {},
   "outputs": [
    {
     "data": {
      "text/plain": [
       "64.72"
      ]
     },
     "execution_count": 22,
     "metadata": {},
     "output_type": "execute_result"
    }
   ],
   "source": [
    "sum(lista)  # suma de los números en lista"
   ]
  },
  {
   "cell_type": "code",
   "execution_count": 23,
   "metadata": {},
   "outputs": [
    {
     "data": {
      "text/plain": [
       "6"
      ]
     },
     "execution_count": 23,
     "metadata": {},
     "output_type": "execute_result"
    }
   ],
   "source": [
    "len(lista)  # número de elementos de lista"
   ]
  },
  {
   "cell_type": "markdown",
   "metadata": {},
   "source": [
    "### Funciones sorted, min y max"
   ]
  },
  {
   "cell_type": "code",
   "execution_count": 24,
   "metadata": {},
   "outputs": [
    {
     "data": {
      "text/plain": [
       "[0, 1.72, 7, 10, 16.0, 30]"
      ]
     },
     "execution_count": 24,
     "metadata": {},
     "output_type": "execute_result"
    }
   ],
   "source": [
    "sorted(lista)   # una lista con valores ordenados de menor a mayor"
   ]
  },
  {
   "cell_type": "code",
   "execution_count": 25,
   "metadata": {},
   "outputs": [
    {
     "data": {
      "text/plain": [
       "(0, 30)"
      ]
     },
     "execution_count": 25,
     "metadata": {},
     "output_type": "execute_result"
    }
   ],
   "source": [
    "min(lista), max(lista)  # mínimo y máximo valor de la lista"
   ]
  },
  {
   "cell_type": "markdown",
   "metadata": {},
   "source": [
    "## 1.3 Biblioteca NumPy\n",
    "Procesamiento de vectores y matrices."
   ]
  },
  {
   "cell_type": "code",
   "execution_count": 26,
   "metadata": {},
   "outputs": [],
   "source": [
    "import numpy as np"
   ]
  },
  {
   "cell_type": "code",
   "execution_count": 27,
   "metadata": {},
   "outputs": [
    {
     "data": {
      "text/plain": [
       "array([1, 2, 3, 4])"
      ]
     },
     "execution_count": 27,
     "metadata": {},
     "output_type": "execute_result"
    }
   ],
   "source": [
    "arreglo = np.array([1, 2, 3, 4])   # arreglo o vector de números\n",
    "arreglo"
   ]
  },
  {
   "cell_type": "code",
   "execution_count": 28,
   "metadata": {},
   "outputs": [
    {
     "data": {
      "text/plain": [
       "array([0. , 0.4, 0.8, 1.2, 1.6, 2. ])"
      ]
     },
     "execution_count": 28,
     "metadata": {},
     "output_type": "execute_result"
    }
   ],
   "source": [
    "np.arange(0, 2.1, 0.4)  # un arreglo de números mayores o iguales que 0, \n",
    "                        # menores que 2.1 e incrementando en 0.4"
   ]
  },
  {
   "cell_type": "markdown",
   "metadata": {},
   "source": [
    "## 1.4 Sentencia for"
   ]
  },
  {
   "cell_type": "code",
   "execution_count": 29,
   "metadata": {},
   "outputs": [
    {
     "name": "stdout",
     "output_type": "stream",
     "text": [
      "1\n",
      "2.0\n",
      "3\n",
      "cuatro\n"
     ]
    }
   ],
   "source": [
    "for i in [1, 2.0, '3', 'cuatro']:   # cada objeto de la lista es asignado consecutivamente al objeto i\n",
    "    print(i)                            # muestra el valor del objeto (la sentencia comienza con sangría)"
   ]
  },
  {
   "cell_type": "markdown",
   "metadata": {},
   "source": [
    "### Objeto range"
   ]
  },
  {
   "cell_type": "code",
   "execution_count": 30,
   "metadata": {},
   "outputs": [
    {
     "name": "stdout",
     "output_type": "stream",
     "text": [
      "-5 -4 -3 -2 -1 0 1 2 3 4 5 "
     ]
    }
   ],
   "source": [
    "for i in range(-5, 6):  # para cada valor entero de i entre -5 y 5 (el mayor entero menor que 6)\n",
    "    print(i, end=' ')     \n",
    "    # muestra el valor del objeto i seguido de un espacio"
   ]
  },
  {
   "cell_type": "markdown",
   "metadata": {},
   "source": [
    "## 1.5 Sentencia if"
   ]
  },
  {
   "cell_type": "code",
   "execution_count": 31,
   "metadata": {},
   "outputs": [
    {
     "name": "stdout",
     "output_type": "stream",
     "text": [
      "10 es mayor que 5\n"
     ]
    }
   ],
   "source": [
    "a = 10      # a es 1\n",
    "b = 5       # b es 5\n",
    "\n",
    "# si a es mayor que b\n",
    "    # mostrar que a es mayor que b\n",
    "# sino, si los valores son iguales\n",
    "    # mostrar que a y b son iguales\n",
    "# sino\n",
    "    # mostrar que a es menor que b\n",
    "\n",
    "if a > b:       \n",
    "    print(a, \"es mayor que\", b)             # las instrucciones de cada bloque comienzan con sangrías\n",
    "elif a == b:\n",
    "    print(\"Los números son iguales a\", a)\n",
    "else:\n",
    "    print(a, \"es menor que\", b)"
   ]
  },
  {
   "cell_type": "markdown",
   "metadata": {},
   "source": [
    "## 1.6 Creación de funciones"
   ]
  },
  {
   "cell_type": "code",
   "execution_count": 32,
   "metadata": {},
   "outputs": [],
   "source": [
    "def promedio(lista):        # def nombre(parámetros):\n",
    "    \"\"\"\n",
    "    Toma una secuencia de números y retorna el promedio.    \n",
    "    \"\"\"\n",
    "    suma = sum(lista)           # suma de los números en la lista\n",
    "    casos = len(lista)          # número de elementos de la lista\n",
    "    media = suma / casos        # promedio\n",
    "    \n",
    "    return media                # retorna el promedio"
   ]
  },
  {
   "cell_type": "code",
   "execution_count": 33,
   "metadata": {},
   "outputs": [
    {
     "name": "stdout",
     "output_type": "stream",
     "text": [
      "10.786666666666667\n"
     ]
    }
   ],
   "source": [
    "p = promedio(lista)\n",
    "print(p)"
   ]
  },
  {
   "cell_type": "code",
   "execution_count": 34,
   "metadata": {},
   "outputs": [
    {
     "ename": "NameError",
     "evalue": "name 'casos' is not defined",
     "output_type": "error",
     "traceback": [
      "\u001b[1;31m---------------------------------------------------------------------------\u001b[0m",
      "\u001b[1;31mNameError\u001b[0m                                 Traceback (most recent call last)",
      "\u001b[1;32m<ipython-input-34-60bc0e5130ae>\u001b[0m in \u001b[0;36m<module>\u001b[1;34m\u001b[0m\n\u001b[1;32m----> 1\u001b[1;33m \u001b[0mcasos\u001b[0m\u001b[1;33m\u001b[0m\u001b[1;33m\u001b[0m\u001b[0m\n\u001b[0m",
      "\u001b[1;31mNameError\u001b[0m: name 'casos' is not defined"
     ]
    }
   ],
   "source": [
    "casos"
   ]
  },
  {
   "cell_type": "code",
   "execution_count": 35,
   "metadata": {},
   "outputs": [
    {
     "name": "stdout",
     "output_type": "stream",
     "text": [
      "Help on function promedio in module __main__:\n",
      "\n",
      "promedio(lista)\n",
      "    Toma una secuencia de números y retorna el promedio.\n",
      "\n"
     ]
    }
   ],
   "source": [
    "help(promedio)"
   ]
  },
  {
   "cell_type": "markdown",
   "metadata": {},
   "source": [
    "## Más información\n",
    "Para cada función y método puedes conseguir ayuda en inglés utilizando **nombre?** o **help(nombre)**\n",
    "```python\n",
    "print, round, list, sum, len, list.append, sorted, min, max, range, dir, type\n",
    "```\n",
    "Para las sentencias **if** y **for**:\n",
    "```python\n",
    "help('for'), help('if')\n",
    "```\n",
    "\n",
    "Para **NumPy** después de ejecutar **import numpy as np**:\n",
    "```python\n",
    "np.*?, dir(np)\n",
    "```\n",
    "También **nombre?** o **help(nombre)** para:\n",
    "```python\n",
    "np.arange, np.array\n",
    "```\n",
    "La función [round](https://docs.python.org/es/3/library/functions.html#round) y [aritmética de punto flotante](https://docs.python.org/es/3/tutorial/floatingpoint.html#tut-fp-issues)"
   ]
  },
  {
   "cell_type": "markdown",
   "metadata": {},
   "source": [
    "<a id='tarea2'></a>\n",
    "<br><img src=\"linea.png\">\n",
    "# [Tarea 2](#inicio)\n",
    "# Tabulando datos\n",
    "<br><img src=\"linea.png\"><br>"
   ]
  },
  {
   "cell_type": "markdown",
   "metadata": {},
   "source": [
    "## 2.1 La biblioteca o módulo Pandas\n",
    "Procesamiento de tablas de datos numéricos y categóricos."
   ]
  },
  {
   "cell_type": "code",
   "execution_count": 36,
   "metadata": {},
   "outputs": [],
   "source": [
    "import pandas as pd"
   ]
  },
  {
   "cell_type": "code",
   "execution_count": 39,
   "metadata": {},
   "outputs": [
    {
     "data": {
      "text/html": [
       "<div>\n",
       "<style scoped>\n",
       "    .dataframe tbody tr th:only-of-type {\n",
       "        vertical-align: middle;\n",
       "    }\n",
       "\n",
       "    .dataframe tbody tr th {\n",
       "        vertical-align: top;\n",
       "    }\n",
       "\n",
       "    .dataframe thead th {\n",
       "        text-align: right;\n",
       "    }\n",
       "</style>\n",
       "<table border=\"1\" class=\"dataframe\">\n",
       "  <thead>\n",
       "    <tr style=\"text-align: right;\">\n",
       "      <th></th>\n",
       "      <th>numeros</th>\n",
       "      <th>letras</th>\n",
       "    </tr>\n",
       "  </thead>\n",
       "  <tbody>\n",
       "    <tr>\n",
       "      <th>0</th>\n",
       "      <td>1</td>\n",
       "      <td>a</td>\n",
       "    </tr>\n",
       "    <tr>\n",
       "      <th>1</th>\n",
       "      <td>2</td>\n",
       "      <td>b</td>\n",
       "    </tr>\n",
       "    <tr>\n",
       "      <th>2</th>\n",
       "      <td>3</td>\n",
       "      <td>c</td>\n",
       "    </tr>\n",
       "    <tr>\n",
       "      <th>3</th>\n",
       "      <td>4</td>\n",
       "      <td>d</td>\n",
       "    </tr>\n",
       "  </tbody>\n",
       "</table>\n",
       "</div>"
      ],
      "text/plain": [
       "   numeros letras\n",
       "0        1      a\n",
       "1        2      b\n",
       "2        3      c\n",
       "3        4      d"
      ]
     },
     "execution_count": 39,
     "metadata": {},
     "output_type": "execute_result"
    }
   ],
   "source": [
    "# crea una tabla llamada tabla\n",
    "tabla = pd.DataFrame() \n",
    "\n",
    "# crea una columna numeros \n",
    "tabla['numeros'] = [1, 2, 3, 4]         \n",
    "\n",
    "# columna letras\n",
    "tabla['letras'] = ['a', 'b', 'c', 'd']  \n",
    "\n",
    "tabla"
   ]
  },
  {
   "cell_type": "code",
   "execution_count": 40,
   "metadata": {},
   "outputs": [
    {
     "data": {
      "text/plain": [
       "0    1\n",
       "1    2\n",
       "2    3\n",
       "3    4\n",
       "Name: numeros, dtype: int64"
      ]
     },
     "execution_count": 40,
     "metadata": {},
     "output_type": "execute_result"
    }
   ],
   "source": [
    "# muestra la columna numeros\n",
    "tabla['numeros']"
   ]
  },
  {
   "cell_type": "code",
   "execution_count": 41,
   "metadata": {},
   "outputs": [
    {
     "data": {
      "text/plain": [
       "(pandas.core.frame.DataFrame, pandas.core.series.Series)"
      ]
     },
     "execution_count": 41,
     "metadata": {},
     "output_type": "execute_result"
    }
   ],
   "source": [
    "# Dataframe: tabla de datos\n",
    "# Series: serie de datos\n",
    "type(tabla), type(tabla['numeros'])"
   ]
  },
  {
   "cell_type": "code",
   "execution_count": 42,
   "metadata": {},
   "outputs": [
    {
     "data": {
      "text/html": [
       "<div>\n",
       "<style scoped>\n",
       "    .dataframe tbody tr th:only-of-type {\n",
       "        vertical-align: middle;\n",
       "    }\n",
       "\n",
       "    .dataframe tbody tr th {\n",
       "        vertical-align: top;\n",
       "    }\n",
       "\n",
       "    .dataframe thead th {\n",
       "        text-align: right;\n",
       "    }\n",
       "</style>\n",
       "<table border=\"1\" class=\"dataframe\">\n",
       "  <thead>\n",
       "    <tr style=\"text-align: right;\">\n",
       "      <th></th>\n",
       "      <th>numeros</th>\n",
       "      <th>letras</th>\n",
       "      <th>cuadrados</th>\n",
       "    </tr>\n",
       "  </thead>\n",
       "  <tbody>\n",
       "    <tr>\n",
       "      <th>0</th>\n",
       "      <td>1</td>\n",
       "      <td>a</td>\n",
       "      <td>1</td>\n",
       "    </tr>\n",
       "    <tr>\n",
       "      <th>1</th>\n",
       "      <td>2</td>\n",
       "      <td>b</td>\n",
       "      <td>4</td>\n",
       "    </tr>\n",
       "    <tr>\n",
       "      <th>2</th>\n",
       "      <td>3</td>\n",
       "      <td>c</td>\n",
       "      <td>9</td>\n",
       "    </tr>\n",
       "    <tr>\n",
       "      <th>3</th>\n",
       "      <td>4</td>\n",
       "      <td>d</td>\n",
       "      <td>16</td>\n",
       "    </tr>\n",
       "  </tbody>\n",
       "</table>\n",
       "</div>"
      ],
      "text/plain": [
       "   numeros letras  cuadrados\n",
       "0        1      a          1\n",
       "1        2      b          4\n",
       "2        3      c          9\n",
       "3        4      d         16"
      ]
     },
     "execution_count": 42,
     "metadata": {},
     "output_type": "execute_result"
    }
   ],
   "source": [
    "# crea una columna cuadrados con los \n",
    "# valores de la columna numeros al cuadrado\n",
    "tabla['cuadrados'] = tabla['numeros'] ** 2\n",
    "\n",
    "tabla"
   ]
  },
  {
   "cell_type": "markdown",
   "metadata": {},
   "source": [
    "### Lista de valores acumulados"
   ]
  },
  {
   "cell_type": "code",
   "execution_count": 43,
   "metadata": {},
   "outputs": [
    {
     "data": {
      "text/plain": [
       "[1, 3, 6, 10]"
      ]
     },
     "execution_count": 43,
     "metadata": {},
     "output_type": "execute_result"
    }
   ],
   "source": [
    "acumulados = []     # una lista vacía\n",
    "suma = 0            # una suma en cero\n",
    "\n",
    "for i in tabla['numeros']:  # para cada dato i en la columna de números\n",
    "    suma = suma + i             # suma e i se adicionan y el resultado va a suma\n",
    "    acumulados.append(suma)     # agrega suma a la lista\n",
    "\n",
    "acumulados          # visualiza la lista de números acumulados"
   ]
  },
  {
   "cell_type": "code",
   "execution_count": 44,
   "metadata": {},
   "outputs": [
    {
     "data": {
      "text/plain": [
       "0     1\n",
       "1     3\n",
       "2     6\n",
       "3    10\n",
       "Name: numeros, dtype: int64"
      ]
     },
     "execution_count": 44,
     "metadata": {},
     "output_type": "execute_result"
    }
   ],
   "source": [
    "# método cumsum de pd.Series\n",
    "tabla['numeros'].cumsum()"
   ]
  },
  {
   "cell_type": "code",
   "execution_count": 46,
   "metadata": {},
   "outputs": [
    {
     "data": {
      "text/plain": [
       "[1, 3, 6, 10]"
      ]
     },
     "execution_count": 46,
     "metadata": {},
     "output_type": "execute_result"
    }
   ],
   "source": [
    "# conversión a lista\n",
    "tabla['numeros'].cumsum().tolist()"
   ]
  },
  {
   "cell_type": "code",
   "execution_count": 47,
   "metadata": {},
   "outputs": [
    {
     "data": {
      "text/html": [
       "<div>\n",
       "<style scoped>\n",
       "    .dataframe tbody tr th:only-of-type {\n",
       "        vertical-align: middle;\n",
       "    }\n",
       "\n",
       "    .dataframe tbody tr th {\n",
       "        vertical-align: top;\n",
       "    }\n",
       "\n",
       "    .dataframe thead th {\n",
       "        text-align: right;\n",
       "    }\n",
       "</style>\n",
       "<table border=\"1\" class=\"dataframe\">\n",
       "  <thead>\n",
       "    <tr style=\"text-align: right;\">\n",
       "      <th></th>\n",
       "      <th>numeros</th>\n",
       "      <th>letras</th>\n",
       "      <th>cuadrados</th>\n",
       "      <th>acumulados</th>\n",
       "    </tr>\n",
       "  </thead>\n",
       "  <tbody>\n",
       "    <tr>\n",
       "      <th>0</th>\n",
       "      <td>1</td>\n",
       "      <td>a</td>\n",
       "      <td>1</td>\n",
       "      <td>1</td>\n",
       "    </tr>\n",
       "    <tr>\n",
       "      <th>1</th>\n",
       "      <td>2</td>\n",
       "      <td>b</td>\n",
       "      <td>4</td>\n",
       "      <td>3</td>\n",
       "    </tr>\n",
       "    <tr>\n",
       "      <th>2</th>\n",
       "      <td>3</td>\n",
       "      <td>c</td>\n",
       "      <td>9</td>\n",
       "      <td>6</td>\n",
       "    </tr>\n",
       "    <tr>\n",
       "      <th>3</th>\n",
       "      <td>4</td>\n",
       "      <td>d</td>\n",
       "      <td>16</td>\n",
       "      <td>10</td>\n",
       "    </tr>\n",
       "  </tbody>\n",
       "</table>\n",
       "</div>"
      ],
      "text/plain": [
       "   numeros letras  cuadrados  acumulados\n",
       "0        1      a          1           1\n",
       "1        2      b          4           3\n",
       "2        3      c          9           6\n",
       "3        4      d         16          10"
      ]
     },
     "execution_count": 47,
     "metadata": {},
     "output_type": "execute_result"
    }
   ],
   "source": [
    "# nueva columna de tabla con el nombre acumulados\n",
    "tabla['acumulados'] = tabla['numeros'].cumsum()\n",
    "\n",
    "tabla"
   ]
  },
  {
   "cell_type": "markdown",
   "metadata": {},
   "source": [
    "### Alturas y pesos de jugadores de baloncesto\n",
    "Datos extraídos de las páginas de los equipos."
   ]
  },
  {
   "cell_type": "code",
   "execution_count": null,
   "metadata": {},
   "outputs": [],
   "source": [
    "# tabla de alturas y pesos de cuatro equipos de baloncesto\n",
    "bucks = pd.DataFrame()\n",
    "bucks['alturas'] = [2.11, 2.06, 2.13, 1.85, 1.96, 1.96, 1.93, 1.91, 2.06, 2.01,\n",
    "                    2.13, 2.13, 1.8, 1.93, 2.01, 2.01, 2.03, 2.08]\n",
    "bucks['pesos'] = [110, 98, 113, 97, 99, 95, 92, 85, 107, 96,\n",
    "                  128, 127, 86, 100, 101, 102, 108, 105]\n",
    "bucks.index.name = \"Bucks\"\n",
    "\n",
    "clippers = pd.DataFrame()\n",
    "clippers['alturas'] = [1.85, 2.01, 2.03, 2.03, 2.01, 1.91, 2.06, 2.01, 1.96, 1.93,\n",
    "                       2.03, 2.03, 2.03, 1.93, 1.85, 2.13]\n",
    "clippers['pesos'] = [82, 95, 100, 103, 109, 94, 113, 102, 98, 93,\n",
    "                     99, 104, 107, 86, 79, 109]\n",
    "clippers.index.name = \"Clippers\"\n",
    "\n",
    "lakers = pd.DataFrame()\n",
    "lakers['alturas'] = [2.08, 1.91, 2.01, 1.96, 1.96, 1.88, 2.08, 2.01, 1.98, 1.93,\n",
    "                     2.11, 2.03, 2.06, 2.13, 2.03, 1.85, 1.98, 1.91]\n",
    "lakers['pesos'] = [91, 82, 109, 93, 84, 81, 115, 108, 97, 107,\n",
    "                   120, 113, 100, 122, 111, 84, 102, 95]\n",
    "lakers.index.name = \"Lakers\"\n",
    "\n",
    "raptors = pd.DataFrame()\n",
    "raptors['alturas'] = [2.01, 2.06, 2.01, 1.93, 2.11, 2.08, 1.98, 2.13, 1.98, 1.83,\n",
    "                      2.01, 2.01, 1.83, 1.91, 2.06, 1.93, 1.85]\n",
    "raptors['pesos'] = [105, 91, 95, 91, 116, 107, 98, 107, 110, 89,\n",
    "                    82, 95, 79, 98, 104, 86, 89]\n",
    "raptors.index.name = \"Raptors\""
   ]
  },
  {
   "cell_type": "code",
   "execution_count": null,
   "metadata": {},
   "outputs": [],
   "source": [
    "bucks   # tabla de los Bucks"
   ]
  },
  {
   "cell_type": "markdown",
   "metadata": {},
   "source": [
    "## 2.2 Tabla de frecuencias por valores"
   ]
  },
  {
   "cell_type": "code",
   "execution_count": null,
   "metadata": {},
   "outputs": [],
   "source": [
    "lakers['pesos'].count()     # número de datos de la columna de pesos"
   ]
  },
  {
   "cell_type": "code",
   "execution_count": null,
   "metadata": {},
   "outputs": [],
   "source": [
    "tabla = lakers.groupby('pesos').count()     # cuenta las ocurrencias de los pesos\n",
    "tabla"
   ]
  },
  {
   "cell_type": "code",
   "execution_count": null,
   "metadata": {},
   "outputs": [],
   "source": [
    "tabla = lakers.groupby('alturas').count()   # cuenta las ocurrencias de las alturas\n",
    "tabla"
   ]
  },
  {
   "cell_type": "markdown",
   "metadata": {},
   "source": [
    "## 2.3 Tabla de frecuencias por intervalos"
   ]
  },
  {
   "cell_type": "code",
   "execution_count": null,
   "metadata": {},
   "outputs": [],
   "source": [
    "print(sorted(lakers['pesos']))      # muestra los pesos ordenados de menor a mayor"
   ]
  },
  {
   "cell_type": "markdown",
   "metadata": {},
   "source": [
    "### Intervalos de pesos [80 - 90), [90, 100), [100, 110), [110, 120), [120, 130)"
   ]
  },
  {
   "cell_type": "code",
   "execution_count": null,
   "metadata": {},
   "outputs": [],
   "source": [
    "# filtro para pesos mayores o iguales que 80 y menores que 90\n",
    "filtro = (lakers['pesos'] >= 80) & (lakers['pesos'] < 80 + 10) \n",
    "\n",
    "# una serie de pesos mayores o iguales que 80 y menores que 90\n",
    "serie = lakers['pesos'][filtro]\n",
    "serie"
   ]
  },
  {
   "cell_type": "code",
   "execution_count": null,
   "metadata": {},
   "outputs": [],
   "source": [
    "# número de pesos en el intervalo [80, 90>\n",
    "len(serie)"
   ]
  },
  {
   "cell_type": "markdown",
   "metadata": {},
   "source": [
    "### Lista de números de pesos por intervalos"
   ]
  },
  {
   "cell_type": "code",
   "execution_count": null,
   "metadata": {},
   "outputs": [],
   "source": [
    "lista = []\n",
    "\n",
    "# para cada peso i desde 80 hasta 120\n",
    "for i in [80, 90, 100, 110, 120]:\n",
    "    \n",
    "    # filtra y cuenta los pesos en el intervalo [i, i + 10)\n",
    "    filtro = (lakers['pesos'] >= i) & (lakers['pesos'] < i + 10)\n",
    "    serie = lakers['pesos'][filtro]\n",
    "    n = len(serie)\n",
    "\n",
    "    lista.append(n)\n",
    "\n",
    "lista"
   ]
  },
  {
   "cell_type": "markdown",
   "metadata": {},
   "source": [
    "### Tabla de frecuencias por intervalos"
   ]
  },
  {
   "cell_type": "code",
   "execution_count": null,
   "metadata": {},
   "outputs": [],
   "source": [
    "indices = ['[80 - 90)', '[90, 100)', '[100, 110)', '[110, 120)', '[120, 130)', 'Total']\n",
    "\n",
    "# crea una tabla con los textos como índices\n",
    "pesos_agrupados = pd.DataFrame(index = indices)\n",
    "\n",
    "# número de datos\n",
    "total = len(lakers['pesos'])\n",
    "\n",
    "# una columna con las frecuencias de ocurrencias más el total\n",
    "pesos_agrupados['frecuencia'] = lista + [total]\n",
    "\n",
    "# el nombre de la columna de índices\n",
    "pesos_agrupados.index.name = 'pesos'\n",
    "\n",
    "pesos_agrupados"
   ]
  },
  {
   "cell_type": "markdown",
   "metadata": {},
   "source": [
    "### Concatenación de textos"
   ]
  },
  {
   "cell_type": "code",
   "execution_count": null,
   "metadata": {},
   "outputs": [],
   "source": [
    "i = 80\n",
    "\n",
    "# el método str convierte valores de objetos a textos\n",
    "indice = '[' + str(i) + ' - ' + str(i + 10) + '>'\n",
    "\n",
    "indice"
   ]
  },
  {
   "cell_type": "markdown",
   "metadata": {},
   "source": [
    "### Función tabla_de_frecuencias"
   ]
  },
  {
   "cell_type": "code",
   "execution_count": null,
   "metadata": {},
   "outputs": [],
   "source": [
    "def tabla_de_frecuencias(datos, minimo, maximo, intervalo, nombre_del_indice = '', decimales = 2):\n",
    "    \"\"\"\n",
    "    Retorna una tabla de frecuencias.\n",
    "    Recibe una secuencia de datos, un valor inicial, un valor final, un intervalo,\n",
    "    un nombre para la columna de índices y el número de decimales de redondeo.\n",
    "    \"\"\"\n",
    "    \n",
    "    cuentas = []    # lista de número de valores en cada intervalo\n",
    "    indices = []    # lista de los índices de la tabla\n",
    "    \n",
    "    # para valores de i desde minimo con incrementos de intervalo y menores que maximo\n",
    "    for i in np.arange(minimo, maximo, intervalo): \n",
    "        \n",
    "        # filtra y cuenta los datos en el intervalo [i, i + 10)\n",
    "        filtro = (datos >= i) & (datos < i + intervalo)\n",
    "        cuenta = len(datos[filtro])\n",
    "        \n",
    "        # forma el texto del índice\n",
    "        indice = '[' + str(round(i, decimales)) + ', ' + str(round(i + intervalo, decimales)) + ')'\n",
    "\n",
    "        # agrega el índice y la cuenta de datos\n",
    "        indices.append(indice)\n",
    "        cuentas.append(cuenta)\n",
    "\n",
    "    # agrega un índice 'Total'\n",
    "    indices.append('Total')\n",
    "    # crea una tabla con los índices formados\n",
    "    tabla = pd.DataFrame(index = indices)\n",
    "    \n",
    "    # agrega el total de datos a cuentas\n",
    "    cuentas.append(len(datos))\n",
    "    # crea una columna con las cuentas\n",
    "    tabla['frecuencia'] = cuentas\n",
    "    \n",
    "    tabla.index.name = nombre_del_indice\n",
    "\n",
    "    return tabla"
   ]
  },
  {
   "cell_type": "code",
   "execution_count": null,
   "metadata": {},
   "outputs": [],
   "source": [
    "# frecuencias de pesos\n",
    "tabla_de_frecuencias(lakers['pesos'], 80, 130, 10, 'pesos (kg)')"
   ]
  },
  {
   "cell_type": "code",
   "execution_count": null,
   "metadata": {},
   "outputs": [],
   "source": [
    "print(sorted(lakers['alturas']))"
   ]
  },
  {
   "cell_type": "code",
   "execution_count": null,
   "metadata": {},
   "outputs": [],
   "source": [
    "# frecuencias de alturas\n",
    "tabla_de_frecuencias(lakers['alturas'], 1.85, 2.15, 0.05, 'alturas (m)')"
   ]
  },
  {
   "cell_type": "markdown",
   "metadata": {},
   "source": [
    "## 2.4 Tabla de frecuencias por intervalos con datos acumulados"
   ]
  },
  {
   "cell_type": "code",
   "execution_count": null,
   "metadata": {},
   "outputs": [],
   "source": [
    "def tabla_de_frecuencias(datos, minimo, maximo, intervalo, nombre_del_indice = '', decimales = 2):\n",
    "    \"\"\"\n",
    "    Retorna una tabla de frecuencias con porcentajes y porcentajes acumulados.\n",
    "    Recibe una secuencia de datos, un valor inicial, un valor final, un intervalo,\n",
    "    un nombre para la columna de índices y el número de decimales de redondeo.\n",
    "    \"\"\"\n",
    "    \n",
    "    cuentas = []    # lista de número de valores en cada intervalo\n",
    "    indices = []    # lista de los índices de la tabla\n",
    "    \n",
    "    # para valores de i desde minimo con incrementos de intervalo y menores que maximo\n",
    "    for i in np.arange(minimo, maximo, intervalo):\n",
    "        \n",
    "        # filtra y cuenta los datos en el intervalo [i, i + 10)\n",
    "        filtro = (datos >= i) & (datos < i + intervalo)\n",
    "        cuenta = len(datos[filtro])\n",
    "        \n",
    "        # forma el texto del índice\n",
    "        indice = '[' + str(round(i, decimales)) + ', ' + str(round(i + intervalo, decimales)) + ')'\n",
    "        \n",
    "        # agrega el índice y la cuenta de datos\n",
    "        indices.append(indice)\n",
    "        cuentas.append(cuenta)\n",
    "\n",
    "    # número de datos\n",
    "    total = len(datos)\n",
    "    \n",
    "    # agrega un índice 'Total'\n",
    "    indices.append('Total')\n",
    "    \n",
    "    # crea una tabla con los índices formados\n",
    "    tabla = pd.DataFrame(index = indices)\n",
    "    \n",
    "    # agrega el total de datos a cuentas\n",
    "    cuentas.append(total)\n",
    "    \n",
    "    # crea una columna con las cuentas\n",
    "    tabla['frecuencia'] = cuentas\n",
    "    \n",
    "    # cada valor de la columna 'frecuencia' se divide entre total y se multiplica por 100\n",
    "    tabla['porcentajes'] = round(tabla['frecuencia'] / total * 100, decimales)\n",
    "    \n",
    "    # acumula los valores de porcentajes\n",
    "    acumulados = tabla['porcentajes'].cumsum().tolist()\n",
    "    \n",
    "    # el último valor resulta 200, entonces se fija en 100\n",
    "    acumulados[-1] = 100\n",
    "    \n",
    "    # crea una columna 'acumulados'\n",
    "    tabla['acumulados'] = acumulados\n",
    "    \n",
    "    tabla.index.name = nombre_del_indice\n",
    "    \n",
    "    return tabla"
   ]
  },
  {
   "cell_type": "code",
   "execution_count": null,
   "metadata": {},
   "outputs": [],
   "source": [
    "tabla_de_frecuencias(lakers['pesos'], 80, 130, 10, 'pesos (kg)')"
   ]
  },
  {
   "cell_type": "code",
   "execution_count": null,
   "metadata": {},
   "outputs": [],
   "source": [
    "tabla_de_frecuencias(lakers['alturas'], 1.85, 2.15, 0.05, 'alturas (kg)', 3)"
   ]
  },
  {
   "cell_type": "markdown",
   "metadata": {},
   "source": [
    "## Más información\n",
    "Después de ejecutar **import pandas as pd**, puedes conseguir ayuda en inglés escribiendo los siguientes textos en una celda seguidos de ? o como argumentos de **help()**:\n",
    "```python\n",
    "pd.DataFrame, pd.Series, pd.Series.cumsum, pd.Series.tolist\n",
    "pd.DataFrame.count, pd.Series.count, pd.Series.groupby\n",
    "```"
   ]
  },
  {
   "cell_type": "markdown",
   "metadata": {},
   "source": [
    "<a id='tarea3'></a>\n",
    "<br><img src=\"linea.png\">\n",
    "# [Tarea 3](#inicio)\n",
    "# Graficando datos\n",
    "<br><img src=\"linea.png\"><br>"
   ]
  },
  {
   "cell_type": "code",
   "execution_count": null,
   "metadata": {},
   "outputs": [],
   "source": [
    "# biblioteca de funciones gráficas\n",
    "import matplotlib.pyplot as plt"
   ]
  },
  {
   "cell_type": "markdown",
   "metadata": {},
   "source": [
    "## 3.1 Histogramas\n",
    "Barras de alturas proporcionales a las frecuencias de los datos (representación gráfica de la tabla de frecuencias)."
   ]
  },
  {
   "cell_type": "code",
   "execution_count": null,
   "metadata": {},
   "outputs": [],
   "source": [
    "tabla_de_frecuencias(lakers['pesos'], 80, 130, 10)"
   ]
  },
  {
   "cell_type": "code",
   "execution_count": null,
   "metadata": {},
   "outputs": [],
   "source": [
    "# histograma de pesos con 5 intervalos\n",
    "plt.hist(lakers['pesos'], bins = [80, 90, 100, 110, 120, 130]) \n",
    "\n",
    "# muestra la figura\n",
    "plt.show()"
   ]
  },
  {
   "cell_type": "code",
   "execution_count": null,
   "metadata": {},
   "outputs": [],
   "source": [
    "tabla_de_frecuencias(lakers['alturas'], 1.85, 2.15, 0.05, 'alturas (kg)')"
   ]
  },
  {
   "cell_type": "code",
   "execution_count": null,
   "metadata": {},
   "outputs": [],
   "source": [
    "plt.hist(lakers['alturas'],                     # datos del histograma\n",
    "         bins = np.arange(1.85, 2.16, 0.05),    # intervalos\n",
    "         rwidth = .9)                           # anchura de las barras\n",
    "\n",
    "# título del gráfico\n",
    "plt.title('Alturas en metros de jugadores de baloncesto')  \n",
    "\n",
    "plt.xlabel('Intervalos')        # etiqueta para las abscisas\n",
    "plt.ylabel('Frecuencia')        # etiqueta para las ordenadas\n",
    "plt.show()"
   ]
  },
  {
   "cell_type": "markdown",
   "metadata": {},
   "source": [
    "### Histograma de los cuatro equipos"
   ]
  },
  {
   "cell_type": "markdown",
   "metadata": {},
   "source": [
    "#### Listas de tablas, nombres, alturas y pesos por equipos"
   ]
  },
  {
   "cell_type": "code",
   "execution_count": null,
   "metadata": {},
   "outputs": [],
   "source": [
    "lista_de_equipos = [bucks, clippers, lakers, raptors]\n",
    "\n",
    "lista_de_colores = ['green', 'blue', 'gold', 'red']              # https://en.wikipedia.org/wiki/X11_color_names\n",
    "\n",
    "lista_de_alturas_por_equipos = []\n",
    "lista_de_pesos_por_equipos = []\n",
    "lista_de_nombres = []\n",
    "\n",
    "# para cada equipo en la lista de equipos\n",
    "for equipo in lista_de_equipos:\n",
    "    \n",
    "    # agrega la columna de alturas del equipo\n",
    "    lista_de_alturas_por_equipos.append(equipo['alturas'])\n",
    "    \n",
    "    # agrega la columna de pesos del equipo\n",
    "    lista_de_pesos_por_equipos.append(equipo['pesos'])\n",
    "    \n",
    "    # agrega el nombre del equipo\n",
    "    lista_de_nombres.append(equipo.index.name)"
   ]
  },
  {
   "cell_type": "code",
   "execution_count": null,
   "metadata": {},
   "outputs": [],
   "source": [
    "# alturas mínimas y máximas en cada equipo\n",
    "for i in lista_de_alturas_por_equipos:\n",
    "    print(min(i), max(i))"
   ]
  },
  {
   "cell_type": "code",
   "execution_count": null,
   "metadata": {},
   "outputs": [],
   "source": [
    "plt.hist(lista_de_alturas_por_equipos,           # lista de columnas de alturas\n",
    "         bins = np.arange(1.80, 2.16, 0.05),    # límites de los intervalos\n",
    "         rwidth = .9,                           # anchura de las barras\n",
    "         color = lista_de_colores)\n",
    "\n",
    "# etiquetas de los equipos\n",
    "plt.legend(lista_de_nombres)\n",
    "\n",
    "plt.title('Alturas en metros de jugadores de baloncesto')\n",
    "plt.xlabel('Intervalos')\n",
    "plt.ylabel('Frecuencia')\n",
    "plt.show()"
   ]
  },
  {
   "cell_type": "code",
   "execution_count": null,
   "metadata": {},
   "outputs": [],
   "source": [
    "# dimensiones de la figura\n",
    "plt.figure(figsize=(16, 4))\n",
    "\n",
    "# para cada índice en la lista de alturas por equipo\n",
    "for i in range(len(lista_de_alturas_por_equipos)):\n",
    "    \n",
    "    # el gráfico i de cuatro gráficas, 1 fila x 4 columnas\n",
    "    plt.subplot(141 + i)\n",
    "    \n",
    "    plt.hist(lista_de_alturas_por_equipos[i], \n",
    "             bins=np.arange(1.80, 2.16, 0.05),\n",
    "             rwidth=0.9,\n",
    "             color=lista_de_colores[i])\n",
    "    \n",
    "    plt.title(lista_de_nombres[i])\n",
    "    \n",
    "    # muestra los valores entre 0 y 8 (la mayor frecuencia)\n",
    "    plt.ylim(0, 8)\n",
    "    \n",
    "plt.show()"
   ]
  },
  {
   "cell_type": "markdown",
   "metadata": {},
   "source": [
    "## 3.2 Gráficos de dos variables"
   ]
  },
  {
   "cell_type": "code",
   "execution_count": null,
   "metadata": {},
   "outputs": [],
   "source": [
    "# la función plot recibe las ordenadas y abscisas,\n",
    "# y opcionalmente un patrón de trazado\n",
    "plt.plot(lakers['alturas'], lakers['pesos'], 'bo')\n",
    "\n",
    "plt.title('Jugadores de los Lakers')\n",
    "plt.xlabel('Alturas')\n",
    "plt.ylabel('Pesos')\n",
    "plt.grid()              # muestra una grilla\n",
    "plt.show()"
   ]
  },
  {
   "cell_type": "code",
   "execution_count": null,
   "metadata": {},
   "outputs": [],
   "source": [
    "lakers.head(3)       # muestra las primeras tres filas de la tabla"
   ]
  },
  {
   "cell_type": "markdown",
   "metadata": {},
   "source": [
    "### Grupo de gráficos"
   ]
  },
  {
   "cell_type": "code",
   "execution_count": null,
   "metadata": {},
   "outputs": [],
   "source": [
    "# alturas y pesos de dos equipos\n",
    "plt.plot(lakers['alturas'], lakers['pesos'], color='gold', linestyle='', marker='o')\n",
    "plt.plot(bucks['alturas'], bucks['pesos'], color='green', linestyle='', marker='o')\n",
    "\n",
    "plt.title('Jugadores de baloncesto')\n",
    "\n",
    "plt.title('Jugadores de baloncesto')\n",
    "plt.xlabel('Alturas')\n",
    "plt.ylabel('Pesos')\n",
    "\n",
    "plt.grid()\n",
    "plt.show()"
   ]
  },
  {
   "cell_type": "markdown",
   "metadata": {},
   "source": [
    "### Función zip\n",
    "Retorna una secuencia de tuplas con datos de las mismas posiciones de objetos iterables"
   ]
  },
  {
   "cell_type": "code",
   "execution_count": null,
   "metadata": {},
   "outputs": [],
   "source": [
    "for numero, palabra in zip([1, 5, 100], ['uno', 'cinco', 'cien']):\n",
    "    print(numero, palabra)"
   ]
  },
  {
   "cell_type": "markdown",
   "metadata": {},
   "source": [
    "### Función pesos_versus_alturas"
   ]
  },
  {
   "cell_type": "code",
   "execution_count": null,
   "metadata": {},
   "outputs": [],
   "source": [
    "def pesos_versus_alturas(lista_de_equipos, lista_de_nombres, lista_de_colores):\n",
    "    \"\"\"\n",
    "    Muestra un gráfico de pesos versus alturas de los equipos.\n",
    "    Recibe una lista de equipos y su respectiva lista de nombres\n",
    "    y colores.\n",
    "    \"\"\"\n",
    "\n",
    "    # para cada equipo y color\n",
    "    for equipo, color in zip(lista_de_equipos, lista_de_colores):\n",
    "        \n",
    "        # grafica las columnas de pesos versus las de alturas con el color respectivo\n",
    "        plt.plot(equipo['alturas'], equipo['pesos'], color=color, linestyle='', marker='o')\n",
    "    \n",
    "    plt.legend(lista_de_nombres)\n",
    "    plt.title('Pesos versus alturas')\n",
    "    plt.xlabel('Alturas') \n",
    "    plt.ylabel('Pesos')\n",
    "    plt.grid()\n",
    "    plt.show()"
   ]
  },
  {
   "cell_type": "code",
   "execution_count": null,
   "metadata": {},
   "outputs": [],
   "source": [
    "pesos_versus_alturas(lista_de_equipos, lista_de_nombres, lista_de_colores) "
   ]
  },
  {
   "cell_type": "markdown",
   "metadata": {},
   "source": [
    "## 3.3 Línea de tendencia o regresión"
   ]
  },
  {
   "cell_type": "markdown",
   "metadata": {},
   "source": [
    "### Método escalar"
   ]
  },
  {
   "cell_type": "code",
   "execution_count": null,
   "metadata": {},
   "outputs": [],
   "source": [
    "# inicialización de datos\n",
    "sumaxy = 0          # la suma de los productos de abscisas y ordenadas \n",
    "sumax = 0           # la suma de las abscisas\n",
    "sumay = 0           # la suma de las ordenadas\n",
    "sumax2 = 0          # la suma de los cuadrados de las abscisas\n",
    "\n",
    "n = len(bucks['alturas'])    # el número de abscisas o de ordenadas\n",
    "\n",
    "for x, y in zip(bucks['alturas'], bucks['pesos']):      # para cada par de alturas y pesos\n",
    "    sumaxy += x * y         # agrega el producto\n",
    "    sumax  += x             # agrega x\n",
    "    sumay  += y             # agrega y\n",
    "    sumax2 += x * x         # agrega el cuadrado de x\n",
    "\n",
    "# la pendiente de la línea de tendencia\n",
    "m = (sumaxy - sumax*sumay/n) / (sumax2 - sumax**2/n)\n",
    "\n",
    "# el cruce por el eje y\n",
    "b = sumay/n - m*sumax/n\n",
    "\n",
    "print(m, b)"
   ]
  },
  {
   "cell_type": "markdown",
   "metadata": {},
   "source": [
    "### Método vectorial"
   ]
  },
  {
   "cell_type": "code",
   "execution_count": null,
   "metadata": {},
   "outputs": [],
   "source": [
    "x = bucks['alturas']\n",
    "y = bucks['pesos']\n",
    "\n",
    "# datos de tipo numpy.float64\n",
    "sumaxy = np.sum(x * y)  # la suma de los productos de cada altura y peso\n",
    "sumax = np.sum(x)       # la suma de las alturas\n",
    "sumay = np.sum(y)       # la suma de los pesos\n",
    "sumax2 = np.sum(x * x)  # la suma de los cuadrados de las alturas\n",
    "\n",
    "# la pendiente de la línea de tendencia\n",
    "m = (n*sumaxy - sumax*sumay) / (n*sumax2 - sumax**2)\n",
    "\n",
    "# el cruce por el eje y\n",
    "b = (sumay - m*sumax)/n\n",
    "\n",
    "print(m, b)"
   ]
  },
  {
   "cell_type": "markdown",
   "metadata": {},
   "source": [
    "### Función polyfit de NumPy"
   ]
  },
  {
   "cell_type": "code",
   "execution_count": null,
   "metadata": {},
   "outputs": [],
   "source": [
    "# encuentra un polinomio de grado 1 (mx + b)\n",
    "mb = np.polyfit(bucks['alturas'], bucks['pesos'], 1)\n",
    "mb[0], mb[1]    # pendiente de la recta y cruce por el eje y"
   ]
  },
  {
   "cell_type": "markdown",
   "metadata": {},
   "source": [
    "### Gráfica de la línea de tendencia"
   ]
  },
  {
   "cell_type": "code",
   "execution_count": null,
   "metadata": {},
   "outputs": [],
   "source": [
    "# extremos de los datos\n",
    "x = np.array([min(bucks['alturas']), max(bucks['alturas'])])\n",
    "\n",
    "# las ordenadas de los extremos\n",
    "y = m*x + b \n",
    "\n",
    "# dos pares de puntos unidos por línea azul\n",
    "plt.plot(x, y, 'b-') \n",
    "\n",
    "# datos de alturas y pesos\n",
    "plt.plot(bucks['alturas'], bucks['pesos'], 'bo')\n",
    "\n",
    "plt.grid()\n",
    "plt.show()"
   ]
  },
  {
   "cell_type": "code",
   "execution_count": null,
   "metadata": {},
   "outputs": [],
   "source": [
    "def pesos_versus_alturas(lista_de_equipos, lista_de_nombres, lista_de_colores):\n",
    "    \"\"\"\n",
    "    Muestra un gráfico de pesos versus alturas de los equipos con sus\n",
    "    líneas de tendencias.\n",
    "    Recibe una lista de equipos y su respectiva lista de nombres\n",
    "    y colores.\n",
    "    \"\"\"\n",
    "\n",
    "    # para cada equipo y color\n",
    "    for equipo, color in zip(lista_de_equipos, lista_de_colores):\n",
    "        \n",
    "        # grafica las columnas de pesos versus las de alturas con el color respectivo\n",
    "        plt.plot(equipo['alturas'], equipo['pesos'], color=color, linestyle='', marker='o')\n",
    "    \n",
    "    plt.legend(lista_de_nombres)\n",
    "    \n",
    "    \n",
    "    for equipo, color in zip(lista_de_equipos, lista_de_colores):\n",
    "\n",
    "        # obtiene los parámetros de la línea de tendencia\n",
    "        parametros = np.polyfit(equipo['alturas'], equipo['pesos'], 1)\n",
    "        m, b = parametros[0], parametros[1]\n",
    "\n",
    "        # extremos de la línea de tendencia\n",
    "        x = np.array([min(equipo['alturas']), max(equipo['alturas'])])\n",
    "\n",
    "        # las ordenadas de los extremos\n",
    "        y = m*x + b \n",
    "\n",
    "        # dibuja la línea de tendencia\n",
    "        plt.plot(x, y, color = color, linestyle = '-', marker = '')\n",
    "\n",
    "\n",
    "    plt.title('Pesos versus alturas')\n",
    "    plt.xlabel('Alturas') \n",
    "    plt.ylabel('Pesos')\n",
    "    plt.grid()\n",
    "    plt.show()"
   ]
  },
  {
   "cell_type": "code",
   "execution_count": null,
   "metadata": {},
   "outputs": [],
   "source": [
    "pesos_versus_alturas(lista_de_equipos, lista_de_nombres, lista_de_colores)"
   ]
  },
  {
   "cell_type": "markdown",
   "metadata": {},
   "source": [
    "## Más información\n",
    "Después de ejecutar **import matplotlib.pyplot as plt**, puedes conseguir ayuda en inglés escribiendo los siguientes textos en una celda seguidos de ? o como argumentos de **help()**:\n",
    "```python\n",
    "plt.hist, plt.show, plt.title, plt.xlabel, plt.ylabel, plt.grid, plt.legend\n",
    "plt.subplot, plt.yticks, plt.ylim\n",
    "\n",
    "pd.Series.iloc, pd.DataFrame.iloc, pd.DataFrame.hist, pd.DataFrame.plot.hist\n",
    "pd.DataFrame.head, pd.Series.head\n",
    "\n",
    "zip\n",
    "\n",
    "np.sum, np.polyfit\n",
    "```"
   ]
  },
  {
   "cell_type": "markdown",
   "metadata": {},
   "source": [
    "<a id='tarea4'></a>\n",
    "<br><img src=\"linea.png\">\n",
    "# [Tarea 4](#inicio)\n",
    "# Calculando tendencias centrales: medias, medianas y modas\n",
    "<br><img src=\"linea.png\"><br>"
   ]
  },
  {
   "cell_type": "markdown",
   "metadata": {},
   "source": [
    "## 4.1 Media\n",
    "El promedio de una lista de valores o datos."
   ]
  },
  {
   "cell_type": "code",
   "execution_count": null,
   "metadata": {},
   "outputs": [],
   "source": [
    "suma = 0    # acumulador\n",
    "n = 0       # contador\n",
    "\n",
    "# suma y cuenta cada altura de los Clippers\n",
    "for altura in clippers['alturas']:\n",
    "    suma = suma + altura\n",
    "    n = n + 1\n",
    "\n",
    "# divide la suma de las alturas\n",
    "# entre el número de alturas\n",
    "promedio = suma / n\n",
    "\n",
    "print(promedio)"
   ]
  },
  {
   "cell_type": "code",
   "execution_count": null,
   "metadata": {},
   "outputs": [],
   "source": [
    "# media con funciones sum y len\n",
    "sum(clippers['alturas']) / len(clippers['alturas'])"
   ]
  },
  {
   "cell_type": "code",
   "execution_count": null,
   "metadata": {},
   "outputs": [],
   "source": [
    "# media con función mean de NumPy\n",
    "np.mean(clippers['alturas'])"
   ]
  },
  {
   "cell_type": "code",
   "execution_count": null,
   "metadata": {},
   "outputs": [],
   "source": [
    "# media con el método mean de Series (pandas)\n",
    "clippers['alturas'].mean()"
   ]
  },
  {
   "cell_type": "markdown",
   "metadata": {},
   "source": [
    "### Tabla de promedios de alturas"
   ]
  },
  {
   "cell_type": "code",
   "execution_count": null,
   "metadata": {},
   "outputs": [],
   "source": [
    "promedios_de_alturas = pd.DataFrame(index = lista_de_nombres)\n",
    "promedios_de_alturas.index.name = 'Equipos'\n",
    "\n",
    "datos = []\n",
    "for alturas_de_un_equipo in lista_de_alturas_por_equipos:\n",
    "    datos.append(round(np.mean(alturas_de_un_equipo), 2))\n",
    "\n",
    "promedios_de_alturas['Promedios de alturas'] = datos\n",
    "promedios_de_alturas"
   ]
  },
  {
   "cell_type": "markdown",
   "metadata": {},
   "source": [
    "## 4.2 Barras"
   ]
  },
  {
   "cell_type": "markdown",
   "metadata": {},
   "source": [
    "### Barras verticales"
   ]
  },
  {
   "cell_type": "code",
   "execution_count": null,
   "metadata": {},
   "outputs": [],
   "source": [
    "indices = range(len(datos)) # posiciones de las barras: 0, 1, 2, 3\n",
    "\n",
    "# dibuja barras verticales en las posiciones indicadas por el rango indices\n",
    "# con alturas dadas por los elementos de la lista datos\n",
    "plt.bar(indices, datos)\n",
    "\n",
    "plt.xlabel('Equipos')\n",
    "plt.ylabel('Valores')\n",
    "plt.title('Promedios de alturas (m)')\n",
    "\n",
    "# etiqueta las posiciones con los nombres de los equipos\n",
    "plt.xticks(indices, lista_de_nombres)\n",
    "\n",
    "plt.show()"
   ]
  },
  {
   "cell_type": "markdown",
   "metadata": {},
   "source": [
    "### Barras horizontales"
   ]
  },
  {
   "cell_type": "code",
   "execution_count": null,
   "metadata": {},
   "outputs": [],
   "source": [
    "datos = []\n",
    "for pesos_de_un_equipo in lista_de_pesos_por_equipos:\n",
    "    datos.append(round(np.mean(pesos_de_un_equipo), 2))\n",
    "\n",
    "plt.barh(indices, datos, color='darkgreen')        # barh\n",
    "plt.xlabel('Valores')\n",
    "plt.ylabel('Equipos')\n",
    "plt.yticks(indices, lista_de_nombres)    # los nombres en el eje de ordenadas\n",
    "\n",
    "plt.title('Promedios de pesos (kg)')\n",
    "plt.show()"
   ]
  },
  {
   "cell_type": "markdown",
   "metadata": {},
   "source": [
    "## 4.3 Mediana\n",
    "El valor o dato central de una lista de datos."
   ]
  },
  {
   "cell_type": "markdown",
   "metadata": {},
   "source": [
    "### Algoritmo\n",
    "```python\n",
    "Ordenar los datos de menor a mayor\n",
    "Si el número de datos es impar\n",
    "    retornar el número central\n",
    "Sino\n",
    "    retornar el promedio de los dos números centrales\n",
    "```\n",
    "\n",
    "```python\n",
    "Caso 1:\n",
    "11 elementos = 5 + 1 + 5\n",
    "índices:    0..4   5   6..11\n",
    "5 = (11 - 1) // 2\n",
    "```\n",
    "\n",
    "```python\n",
    "Caso 2:\n",
    "12 elementos = 5 + 1 + 1 + 5\n",
    "índices:    0..4   5   6   7..12\n",
    "5 = 12 // 2 - 1\n",
    "6 = 12 // 2\n",
    "```"
   ]
  },
  {
   "cell_type": "code",
   "execution_count": null,
   "metadata": {},
   "outputs": [],
   "source": [
    "lista = sorted(raptors['alturas'])\n",
    "n = len(lista)\n",
    "\n",
    "# si el residuo del número entre 2 es cero\n",
    "if n % 2 == 0:  # n es par\n",
    "    # división entera con //\n",
    "    mediana = (lista[n//2 - 1] + lista[n//2]) / 2\n",
    "# sino\n",
    "else:           # n es impar\n",
    "    mediana = lista[(n - 1)//2]\n",
    "\n",
    "print(mediana)"
   ]
  },
  {
   "cell_type": "code",
   "execution_count": null,
   "metadata": {},
   "outputs": [],
   "source": [
    "# mediana con la función median de NumPy\n",
    "np.median(raptors['alturas'])"
   ]
  },
  {
   "cell_type": "code",
   "execution_count": null,
   "metadata": {},
   "outputs": [],
   "source": [
    "# mediana con el método median de Series\n",
    "raptors['alturas'].median()"
   ]
  },
  {
   "cell_type": "markdown",
   "metadata": {},
   "source": [
    "## 4.4 Barras emparejadas"
   ]
  },
  {
   "cell_type": "code",
   "execution_count": null,
   "metadata": {},
   "outputs": [],
   "source": [
    "indices = np.arange(len(lista_de_equipos))\n",
    "anchura = 0.4\n",
    "\n",
    "# la suma de un arreglo con escalar\n",
    "# aplica el escalar a cada elemento del arreglo\n",
    "indices, indices + anchura"
   ]
  },
  {
   "cell_type": "code",
   "execution_count": null,
   "metadata": {},
   "outputs": [],
   "source": [
    "promedios = []\n",
    "medianas = []\n",
    "\n",
    "for alturas_por_equipo in lista_de_alturas_por_equipos:\n",
    "    promedios.append(round(alturas_por_equipo.mean(), 2))\n",
    "    medianas.append(round(alturas_por_equipo.median(), 2))\n",
    "\n",
    "plt.bar(indices, promedios, anchura)                # centros de las barras de promedios\n",
    "plt.bar(indices + anchura, medianas, anchura)       # centros de las barras de medianas\n",
    "\n",
    "plt.xlabel('Equipos')\n",
    "plt.ylabel('Valores')\n",
    "plt.title('Promedios y medianas de alturas')\n",
    "plt.xticks(indices + anchura/2, lista_de_nombres)            # posiciones de los nombres\n",
    "plt.legend(['Promedios', 'Medianas'], loc='lower center')\n",
    "\n",
    "plt.show()"
   ]
  },
  {
   "cell_type": "markdown",
   "metadata": {},
   "source": [
    "## 4.5 Moda\n",
    "El valor o los valores que más aparecen en una colección de datos."
   ]
  },
  {
   "cell_type": "code",
   "execution_count": null,
   "metadata": {},
   "outputs": [],
   "source": [
    "sorted(clippers['pesos'])"
   ]
  },
  {
   "cell_type": "code",
   "execution_count": null,
   "metadata": {},
   "outputs": [],
   "source": [
    "clippers.groupby('pesos').count()"
   ]
  },
  {
   "cell_type": "code",
   "execution_count": null,
   "metadata": {},
   "outputs": [],
   "source": [
    "# moda de pesos de los Clippers con el método mode de Series (pd.Series.mode)\n",
    "clippers['pesos'].mode()"
   ]
  },
  {
   "cell_type": "code",
   "execution_count": null,
   "metadata": {},
   "outputs": [],
   "source": [
    "# modas de alturas de los Lakers\n",
    "lakers.groupby('alturas').count()"
   ]
  },
  {
   "cell_type": "code",
   "execution_count": null,
   "metadata": {},
   "outputs": [],
   "source": [
    "lakers['alturas'].mode()"
   ]
  },
  {
   "cell_type": "markdown",
   "metadata": {},
   "source": [
    "## Más información\n",
    "Después de ejecutar **import matplotlib.pyplot as plt**, puedes conseguir ayuda en inglés escribiendo los siguientes textos en una celda seguidos de ? o como argumentos de help():\n",
    "```python\n",
    "plt.bar, plt.barh, plt.xticks\n",
    "\n",
    "pd.Series.mean, pd.Series.median, pd.Series.mode\n",
    "\n",
    "np.mean, np.median\n",
    "```"
   ]
  },
  {
   "cell_type": "markdown",
   "metadata": {},
   "source": [
    "<a id='tarea5'></a>\n",
    "<br><img src=\"linea.png\">\n",
    "# [Tarea 5](#inicio)\n",
    "# Calculando dispersiones: rangos, varianzas y desviaciones estándares\n",
    "<br><img src=\"linea.png\"><br>"
   ]
  },
  {
   "cell_type": "markdown",
   "metadata": {},
   "source": [
    "## 5.1 Rango\n",
    "La diferencia entre el valor máximo y el valor mínimo de los datos."
   ]
  },
  {
   "cell_type": "code",
   "execution_count": null,
   "metadata": {},
   "outputs": [],
   "source": [
    "# rango de pesos de los jugadores de los Raptors\n",
    "max(raptors['pesos']) - min(raptors['pesos'])"
   ]
  },
  {
   "cell_type": "code",
   "execution_count": null,
   "metadata": {},
   "outputs": [],
   "source": [
    "# rangos de pesos de los cuatro equipos\n",
    "\n",
    "tabla = pd.DataFrame(index = lista_de_nombres)\n",
    "tabla.index.name = 'equipos'\n",
    "\n",
    "minimos = []\n",
    "maximos = []\n",
    "rangos = []\n",
    "\n",
    "# para cada pesos por equipo\n",
    "for pesos_por_equipo in lista_de_pesos_por_equipos:\n",
    "    # agrega los valores mínimos y máximos\n",
    "    minimo = min(pesos_por_equipo)\n",
    "    maximo = max(pesos_por_equipo)\n",
    "    minimos.append(minimo)\n",
    "    maximos.append(maximo)\n",
    "    \n",
    "    # agrega el rango\n",
    "    rangos.append(maximo - minimo)\n",
    "\n",
    "# crea columnas de mínimos, máximos y rangos\n",
    "tabla['pesos mínimos'] = minimos\n",
    "tabla['pesos máximos'] = maximos\n",
    "tabla['rangos de pesos'] = rangos\n",
    "\n",
    "tabla"
   ]
  },
  {
   "cell_type": "markdown",
   "metadata": {},
   "source": [
    "## 5.2 Rango intercuartil\n",
    "La diferencia entre el dato del tercer cuartil y el dato del primer cuartil."
   ]
  },
  {
   "cell_type": "code",
   "execution_count": null,
   "metadata": {},
   "outputs": [],
   "source": [
    "datos = sorted(bucks['pesos'])\n",
    "print(datos)\n",
    "print(len(datos))"
   ]
  },
  {
   "cell_type": "code",
   "execution_count": null,
   "metadata": {},
   "outputs": [],
   "source": [
    "# primer cuartil, interpolación lineal\n",
    "x = (len(datos) - 1) * 0.25\n",
    "\n",
    "# el valor entero de x marca la posición del dato en el primer cuartil\n",
    "# la parte decimal sirve para interpolar un dato entre la posición entera y la siguiente\n",
    "i = int(x)\n",
    "d = x - int(x)\n",
    "i, d"
   ]
  },
  {
   "cell_type": "code",
   "execution_count": null,
   "metadata": {},
   "outputs": [],
   "source": [
    "q1 = datos[i] + d*(datos[i + 1] - datos[i])\n",
    "q1"
   ]
  },
  {
   "cell_type": "code",
   "execution_count": null,
   "metadata": {},
   "outputs": [],
   "source": [
    "# cuartiles con pandas, retorna un objeto Series\n",
    "bucks['pesos'].quantile([0.25, 0.5, 0.75])"
   ]
  },
  {
   "cell_type": "code",
   "execution_count": null,
   "metadata": {},
   "outputs": [],
   "source": [
    "# cuartiles con NumPy, retorna una lista\n",
    "np.quantile(bucks['pesos'], [0.25, 0.50, 0.75])"
   ]
  },
  {
   "cell_type": "code",
   "execution_count": null,
   "metadata": {},
   "outputs": [],
   "source": [
    "# rangos intercuartiles\n",
    "rangos_intercuartiles = []\n",
    "\n",
    "for pesos_por_equipo in lista_de_pesos_por_equipos:\n",
    "    q = np.quantile(pesos_por_equipo, [0.25, 0.75])\n",
    "    rangos_intercuartiles.append(q[1] - q[0])\n",
    "\n",
    "tabla['rangos intercuartiles'] = rangos_intercuartiles\n",
    "\n",
    "tabla"
   ]
  },
  {
   "cell_type": "markdown",
   "metadata": {},
   "source": [
    "### El método describe"
   ]
  },
  {
   "cell_type": "code",
   "execution_count": null,
   "metadata": {},
   "outputs": [],
   "source": [
    "raptors.describe()"
   ]
  },
  {
   "cell_type": "markdown",
   "metadata": {},
   "source": [
    "## 5.3 Diagramas de cajas"
   ]
  },
  {
   "cell_type": "code",
   "execution_count": null,
   "metadata": {},
   "outputs": [],
   "source": [
    "# muestra un diagrama de caja (caja y bigotes)\n",
    "plt.boxplot(raptors['pesos'])\n",
    "\n",
    "plt.grid()\n",
    "plt.show()"
   ]
  },
  {
   "cell_type": "markdown",
   "metadata": {},
   "source": [
    "### Comparación de pesos"
   ]
  },
  {
   "cell_type": "code",
   "execution_count": null,
   "metadata": {},
   "outputs": [],
   "source": [
    "# diagramas de caja de los pesos por equipo \n",
    "plt.boxplot(lista_de_pesos_por_equipos)\n",
    "\n",
    "# etiqueta el eje x con los nombres\n",
    "plt.xticks(range(1, len(lista_de_nombres) + 1), lista_de_nombres)\n",
    "\n",
    "plt.title('Comparación de pesos')\n",
    "plt.grid()\n",
    "plt.show()"
   ]
  },
  {
   "cell_type": "code",
   "execution_count": null,
   "metadata": {},
   "outputs": [],
   "source": [
    "bucks[bucks['pesos'] > 120]     # los casos estadísticos atípicos de los Bucks"
   ]
  },
  {
   "cell_type": "markdown",
   "metadata": {},
   "source": [
    "### Comparación de alturas"
   ]
  },
  {
   "cell_type": "code",
   "execution_count": null,
   "metadata": {},
   "outputs": [],
   "source": [
    "plt.boxplot(lista_de_alturas_por_equipos)\n",
    "\n",
    "plt.xticks(np.arange(len(lista_de_nombres)) + 1, lista_de_nombres)\n",
    "plt.grid()\n",
    "plt.show()"
   ]
  },
  {
   "cell_type": "markdown",
   "metadata": {},
   "source": [
    "## 5.4 Valores atípicos\n",
    "Los valores fuera del intervalo [Q1 - 1.5 IQR, Q3 + 1.5 IQR]"
   ]
  },
  {
   "cell_type": "code",
   "execution_count": null,
   "metadata": {},
   "outputs": [],
   "source": [
    "# retorna una serie con el valor mínimo, \n",
    "# los cuartiles Q1, Q2 y Q3, y el valor máximo.\n",
    "dato = bucks['pesos'].quantile([0, 0.25, 0.5, 0.75, 1])\n",
    "\n",
    "# rango intercuartil\n",
    "iqr = dato[0.75] - dato[0.25]\n",
    "\n",
    "m = dato[0.25] - 1.5*iqr    # límite superior de valores atípicos menores\n",
    "n = dato[0.75] + 1.5*iqr    # límite inferior de valores atípicos mayores\n",
    "\n",
    "print(m, n)\n",
    "print(sorted(bucks['pesos']))"
   ]
  },
  {
   "cell_type": "markdown",
   "metadata": {},
   "source": [
    "## 5.5 Varianza"
   ]
  },
  {
   "cell_type": "code",
   "execution_count": null,
   "metadata": {},
   "outputs": [],
   "source": [
    "x = clippers['alturas']\n",
    "N = len(x)  # número de datos\n",
    "\n",
    "# varianza de una población\n",
    "varianza = sum((x - np.mean(x))**2) / N\n",
    "print('Varianza de población:', varianza)\n",
    "\n",
    "# varianza de una muestra\n",
    "varianza = sum((x - np.mean(x))**2) / (N - 1)\n",
    "print('Varianza de muestra:  ', varianza)"
   ]
  },
  {
   "cell_type": "markdown",
   "metadata": {},
   "source": [
    "## 5.6 Desviación estándar"
   ]
  },
  {
   "cell_type": "markdown",
   "metadata": {},
   "source": [
    "### Desviación estándar de una población"
   ]
  },
  {
   "cell_type": "code",
   "execution_count": null,
   "metadata": {},
   "outputs": [],
   "source": [
    "x = clippers['alturas']\n",
    "N = len(x)  # número de datos\n",
    "\n",
    "# varianza de una población\n",
    "varianza = sum((x - np.mean(x))**2) / N\n",
    "desviacion_estandar = varianza**0.5\n",
    "print('Desviación estándar de población:', desviacion_estandar)\n",
    "\n",
    "# varianza de una muestra\n",
    "varianza = sum((x - np.mean(x))**2) / (N - 1)\n",
    "desviacion_estandar = np.sqrt(varianza)\n",
    "print('Desviación estándar de muestra:  ', desviacion_estandar)"
   ]
  },
  {
   "cell_type": "code",
   "execution_count": null,
   "metadata": {},
   "outputs": [],
   "source": [
    "# desviación estándar de una población con pandas\n",
    "clippers['alturas'].std(ddof = 0)       # el denominador es N - ddof"
   ]
  },
  {
   "cell_type": "code",
   "execution_count": null,
   "metadata": {},
   "outputs": [],
   "source": [
    "# desviación estándar de una población con NumPy\n",
    "np.std(clippers['alturas'])"
   ]
  },
  {
   "cell_type": "code",
   "execution_count": null,
   "metadata": {},
   "outputs": [],
   "source": [
    "# desviación estándar de una muestra con pandas\n",
    "clippers['alturas'].std()         # el denominador es N - ddof, ddof es 1 por defecto"
   ]
  },
  {
   "cell_type": "code",
   "execution_count": null,
   "metadata": {},
   "outputs": [],
   "source": [
    "# desviación estándar de una muestra con NumPy\n",
    "np.std(clippers['alturas'], ddof = 1)  # # el denominador es N - ddof, ddof es 0 por defecto"
   ]
  },
  {
   "cell_type": "code",
   "execution_count": null,
   "metadata": {},
   "outputs": [],
   "source": [
    "# varianzas de pesos y alturas en los equipos\n",
    "\n",
    "tabla = pd.DataFrame(index = lista_de_nombres)\n",
    "tabla.index.name = 'equipos'\n",
    "\n",
    "poblaciones = []\n",
    "muestras = []\n",
    "\n",
    "for alturas_por_equipo in lista_de_alturas_por_equipos:\n",
    "    poblaciones.append(np.std(alturas_por_equipo))\n",
    "    muestras.append(np.std(alturas_por_equipo, ddof = 1))\n",
    "        \n",
    "tabla['variancia de población'] = poblaciones\n",
    "tabla['variancia de muestra'] = muestras\n",
    "\n",
    "tabla"
   ]
  },
  {
   "cell_type": "markdown",
   "metadata": {},
   "source": [
    "### Regla 68 95 99.7"
   ]
  },
  {
   "cell_type": "code",
   "execution_count": null,
   "metadata": {},
   "outputs": [],
   "source": [
    "## desviación estándar de una muestra\n",
    "s = np.std(bucks['alturas'], ddof = 1)\n",
    "m = np.mean(bucks['alturas'])\n",
    "bucks[abs(bucks['alturas'] - m) <= s] "
   ]
  },
  {
   "cell_type": "code",
   "execution_count": null,
   "metadata": {},
   "outputs": [],
   "source": [
    "p68 = len(bucks[abs(bucks['alturas'] - m) <=   s]) / len(bucks)\n",
    "p95 = len(bucks[abs(bucks['alturas'] - m) <= 2*s]) / len(bucks)\n",
    "p99 = len(bucks[abs(bucks['alturas'] - m) <= 3*s]) / len(bucks)\n",
    "p68, p95, p99"
   ]
  },
  {
   "cell_type": "markdown",
   "metadata": {},
   "source": [
    "## Más información\n",
    "Puedes conseguir ayuda en inglés escribiendo los siguientes textos en una celda seguidos de ? o como argumentos de help():\n",
    "```python\n",
    "plt.boxplot\n",
    "\n",
    "pd.Series., pd.Series.std\n",
    "\n",
    "np.sqrt, np.quantile\n",
    "```"
   ]
  },
  {
   "cell_type": "markdown",
   "metadata": {},
   "source": [
    "<a id='tarea6'></a>\n",
    "<br><img src=\"linea.png\">\n",
    "# [Tarea 6](#inicio)\n",
    "# Comparando índices de masas corporales\n",
    "<br><img src=\"linea.png\"><br>"
   ]
  },
  {
   "cell_type": "markdown",
   "metadata": {},
   "source": [
    "## 6.1 Índice de masa corporal (IMC)\n",
    "El peso dividido entre el cuadrado de la altura"
   ]
  },
  {
   "cell_type": "markdown",
   "metadata": {},
   "source": [
    "### Función agrega_imc"
   ]
  },
  {
   "cell_type": "code",
   "execution_count": null,
   "metadata": {},
   "outputs": [],
   "source": [
    "def agrega_imc(equipos):\n",
    "    \"\"\"\n",
    "    Agrega una columna 'imc' de índices de masas corporales\n",
    "    \"\"\"\n",
    "    for equipo in equipos:\n",
    "        \n",
    "        imc = []\n",
    "        \n",
    "        for altura, peso in zip(equipo['alturas'], equipo['pesos']):\n",
    "            \n",
    "            # agrega el peso entre el cuadrado de la altura\n",
    "            imc.append(round(peso/altura**2, 1))\n",
    "            \n",
    "        equipo['imc'] = imc"
   ]
  },
  {
   "cell_type": "code",
   "execution_count": null,
   "metadata": {},
   "outputs": [],
   "source": [
    "agrega_imc(lista_de_equipos)"
   ]
  },
  {
   "cell_type": "code",
   "execution_count": null,
   "metadata": {},
   "outputs": [],
   "source": [
    "bucks"
   ]
  },
  {
   "cell_type": "markdown",
   "metadata": {},
   "source": [
    "### Función grafica_imc"
   ]
  },
  {
   "cell_type": "code",
   "execution_count": null,
   "metadata": {},
   "outputs": [],
   "source": [
    "def grafica_imc(equipos, colores, etiquetas):\n",
    "    \"\"\"\n",
    "    Grafica los índices de masas corporales de una lista de equipos.\n",
    "    \"\"\"\n",
    "    # para cada par de equipos y colores\n",
    "    for equipo, color in zip(equipos, colores):\n",
    "        plt.plot(range(len(equipo)),    # índices de los datos, desde 0 hasta número de datos - 1\n",
    "                 equipo['imc'],         # datos de IMC\n",
    "                 color = color,         # color del punto\n",
    "                 linestyle = '',        # sin segmentos entre puntos\n",
    "                 marker = 'o')          # punto\n",
    "\n",
    "    plt.title('Índices de masas corporales')\n",
    "    plt.xlabel('Jugadores')\n",
    "    plt.ylabel('IMC')\n",
    "    plt.legend(etiquetas)\n",
    "    plt.show()"
   ]
  },
  {
   "cell_type": "code",
   "execution_count": null,
   "metadata": {},
   "outputs": [],
   "source": [
    "grafica_imc(lista_de_equipos, lista_de_colores, lista_de_nombres)"
   ]
  },
  {
   "cell_type": "markdown",
   "metadata": {},
   "source": [
    "### Promedio de IMC por equipos"
   ]
  },
  {
   "cell_type": "code",
   "execution_count": null,
   "metadata": {},
   "outputs": [],
   "source": [
    "for equipo, nombre in zip(lista_de_equipos, lista_de_nombres):\n",
    "    print(nombre, round(np.mean(equipo['imc']), 1))"
   ]
  },
  {
   "cell_type": "markdown",
   "metadata": {},
   "source": [
    "## 6.2 Rangos de IMC\n",
    "[Índice de masa corporal](https://medlineplus.gov/spanish/ency/article/007196.htm)"
   ]
  },
  {
   "cell_type": "code",
   "execution_count": null,
   "metadata": {},
   "outputs": [],
   "source": [
    "# https://medlineplus.gov/spanish/ency/article/007196.htm\n",
    "# Debajo de 18.5    Por debajo del peso\n",
    "# 18.5 a 24.9       Saludable\n",
    "# 25.0 a 29.9       Con sobrepeso\n",
    "# 30.0 a 39.9       Obeso\n",
    "# Más de 40         Obesidad extrema o de alto riesgo\n",
    "\n",
    "imc = bucks['imc']\n",
    "print(\"Debajo del peso:\", len(imc[imc < 18.5]))\n",
    "print(\"Saludable:      \", len(imc[(imc >= 18.5) & (imc < 25)]))\n",
    "print(\"Con sobrepeso:  \", len(imc[(imc >= 25) & (imc < 30)]))\n",
    "print(\"Obeso:          \", len(imc[(imc >= 30) & (imc < 40)]))\n",
    "print(\"Alto riesgo:    \", len(imc[imc >= 40]))"
   ]
  },
  {
   "cell_type": "markdown",
   "metadata": {},
   "source": [
    "### Función porcentajes_imc"
   ]
  },
  {
   "cell_type": "code",
   "execution_count": null,
   "metadata": {},
   "outputs": [],
   "source": [
    "def porcentajes_imc(equipos, nombres):\n",
    "    \"\"\"\n",
    "    Retorna una tabla de porcentajes en cada categoría de IMC.\n",
    "    \"\"\"\n",
    "\n",
    "    tabla = pd.DataFrame(index = [\"Debajo del peso\",\n",
    "                                  \"Saludable\",\n",
    "                                  \"Con sobrepeso\",\n",
    "                                  \"Obeso\",\n",
    "                                  \"Alto riesgo\"])\n",
    "\n",
    "    marcas = [0, 18.5, 25, 30, 40, 1000]    # 1000 es extremo, con \n",
    "    \n",
    "    # para cada equipo y nombre\n",
    "    for equipo, nombre in zip(equipos, nombres):\n",
    "        \n",
    "        imc = equipo['imc']     # los valores IMC\n",
    "        tpc = 100 / len(imc)    # el factor de tanto por ciento \n",
    "        \n",
    "        lista = []\n",
    "        \n",
    "        # para cada índice de la lista marcas desde el primero hasta el penúltimo\n",
    "        for i in range(len(marcas) - 1):\n",
    "            \n",
    "            # número de elementos entre la marca actual y la siguiente\n",
    "            n = len(imc[(imc >= marcas[i]) & (imc < marcas[i + 1])])\n",
    "            \n",
    "            # agrega el porcentaje con dos cifras decimales\n",
    "            lista.append(round(n * tpc, 2))\n",
    "        \n",
    "        # columna de datos IMC del equipo\n",
    "        tabla[nombre] = lista\n",
    "        \n",
    "    return tabla"
   ]
  },
  {
   "cell_type": "code",
   "execution_count": null,
   "metadata": {},
   "outputs": [],
   "source": [
    "porcentajes_imc(lista_de_equipos, lista_de_nombres)"
   ]
  },
  {
   "cell_type": "markdown",
   "metadata": {},
   "source": [
    "### Tabla transpuesta"
   ]
  },
  {
   "cell_type": "code",
   "execution_count": null,
   "metadata": {},
   "outputs": [],
   "source": [
    "porcentajes_imc(lista_de_equipos, lista_de_nombres).T"
   ]
  },
  {
   "cell_type": "markdown",
   "metadata": {},
   "source": [
    "## 6.3 Barras apiladas"
   ]
  },
  {
   "cell_type": "code",
   "execution_count": null,
   "metadata": {},
   "outputs": [],
   "source": [
    "def barras_imc(tabla, nombres, dimensiones = (8, 4), anchura = 0.8):\n",
    "    \"\"\"\n",
    "    Muestra barras apiladas de datos de porcentajes de jugadores\n",
    "    de acuerdo a condiciones saludables, con sobrepeso, obesos y en alto riesgo.\n",
    "    Fuente: medlineplus.gov/spanish/ency/article/007196.htm\n",
    "    \"\"\"\n",
    "    saludables = tabla['Saludable']\n",
    "    sobrepesos = tabla['Con sobrepeso']\n",
    "    obesos = tabla['Obeso']\n",
    "    enriesgos = tabla['Alto riesgo']\n",
    "\n",
    "    indices = np.arange(len(tabla))\n",
    "    \n",
    "    plt.figure(figsize=dimensiones)\n",
    "    \n",
    "    plt.bar(indices, saludables, anchura)\n",
    "    plt.bar(indices, sobrepesos, anchura, bottom=saludables)\n",
    "    plt.bar(indices, obesos,     anchura, bottom=saludables + sobrepesos)\n",
    "    plt.bar(indices, enriesgos,  anchura, bottom=saludables + sobrepesos + obesos)\n",
    "    \n",
    "    plt.xlabel('Equipos')\n",
    "    plt.ylabel('Valores')\n",
    "    plt.title('Condiciones de IMC, medlineplus.gov/spanish/ency/article/007196.htm')\n",
    "    plt.xticks(indices, nombres)\n",
    "    plt.legend(['Saludables', 'Sobrepesos', 'Obesos', 'Alto riesgo'], loc='lower center')\n",
    "\n",
    "    plt.show()"
   ]
  },
  {
   "cell_type": "code",
   "execution_count": null,
   "metadata": {},
   "outputs": [],
   "source": [
    "tabla = porcentajes_imc(lista_de_equipos, lista_de_nombres).T\n",
    "tabla"
   ]
  },
  {
   "cell_type": "code",
   "execution_count": null,
   "metadata": {},
   "outputs": [],
   "source": [
    "barras_imc(tabla, lista_de_nombres)"
   ]
  },
  {
   "cell_type": "markdown",
   "metadata": {},
   "source": [
    "## 6.4 Alturas y pesos de deportistas de fútbol, fútbol americano y sumo\n",
    "Datos extraídos de las páginas de los clubes, Wikipedia y de la página oficial de sumo"
   ]
  },
  {
   "cell_type": "code",
   "execution_count": null,
   "metadata": {},
   "outputs": [],
   "source": [
    "# Fútbol \n",
    "\n",
    "barcelona = pd.DataFrame()\n",
    "barcelona['alturas'] = [1.87, 1.90, 1.77, 1.94, 1.86, 1.70, 1.78, 1.82, 1.84, 1.84,\n",
    "                        1.89, 1.71, 1.80, 1.80, 1.82, 1.70, 1.78, 1.76, 1.77]\n",
    "barcelona['pesos'] = [85, 84, 67, 85, 81, 68, 68, 75, 78, 78,\n",
    "                      76, 73, 74, 75, 86, 72, 67, 73, 73]\n",
    "\n",
    "bayern = pd.DataFrame()\n",
    "bayern['alturas'] = [1.93, 1.92, 1.92, 1.93, 1.89, 1.76, 1.80, 1.82, 1.92, 1.86, \n",
    "                     1.95, 1.76, 1.81, 1.81, 1.89, 1.81, 1.72, 1.92, 1.74, 1.79, \n",
    "                     1.86, 1.75, 1.84, 1.86, 1.84]\n",
    "bayern['pesos'] = [92, 87, 84, 84, 84, 73, 78, 76, 90, 76,\n",
    "                   97, 66, 81, 72, 76, 74, 68, 86, 70, 75,\n",
    "                   75, 75, 78, 80, 80]\n",
    "\n",
    "juventus = pd.DataFrame()\n",
    "juventus['alturas'] = [1.92, 1.96, 1.92, 1.90, 1.84, 1.89, 1.83, 1.87, 1.89, 1.82, \n",
    "                       1.89, 1.78, 1.87, 1.86, 1.79, 1.77]\n",
    "juventus['pesos'] = [91, 90, 89, 85, 80, 86, 74, 78, 71, 77,\n",
    "                     80, 72, 83, 75, 71, 73]\n",
    "\n",
    "madrid = pd.DataFrame()\n",
    "madrid['alturas'] = [1.95, 1.99, 1.73, 1.86, 1.84, 1.91, 1.80, 1.74, 1.80, 1.83,\n",
    "                     1.72, 1.85, 1.82, 1.80, 1.76, 1.75, 1.85, 1.85, 1.73, 1.82, \n",
    "                     1.82, 1.71, 1.80, 1.76, 1.74]\n",
    "madrid['pesos'] = [94, 96, 73.5, 78, 82.2, 81.2, 76.3, 75, 73, 76, 66.2, 84,\n",
    "                   78, 75, 79, 74, 81.2, 81.8, 70.5, 85, 76, 68, 76, 73, 64]\n",
    "\n",
    "# Fútbol americano\n",
    "\n",
    "saints = pd.DataFrame()\n",
    "saints['alturas'] = [1.91, 1.93, 1.85, 1.83, 1.78, 1.85, 1.85, 1.91, 1.96, 1.93, \n",
    "                     1.96, 1.91, 1.78, 1.96, 1.96, 1.88, 1.88, 1.8, 1.93, 1.8, \n",
    "                     1.85, 1.91, 1.88, 1.98, 2.01, 1.96, 1.83, 1.93, 1.93, 1.78, \n",
    "                     1.91, 1.93, 1.83, 1.78, 1.93, 1.93, 1.8, 1.96, 1.7, 1.83, \n",
    "                     1.96, 1.78, 1.93, 1.8, 1.93, 1.91, 1.83, 1.78, 1.96, 2.03, \n",
    "                     1.93, 1.91, 1.88, 1.96, 1.93, 1.68, 1.85, 1.91, 1.85, 1.93, \n",
    "                     1.93, 1.83, 1.96, 1.88, 1.8, 1.85, 1.91, 1.85, 1.91, 1.91, \n",
    "                     1.85, 1.88, 1.98, 1.98, 2.01, 1.96, 1.96, 1.91, 1.85, 1.88, \n",
    "                     1.93, 1.83, 1.88, 1.83, 1.91, 1.83, 1.88, 1.96, 1.91, 1.91, \n",
    "                     1.88]\n",
    "saints['pesos'] = [115.7, 104.8, 88.5, 88.9, 83.9, 81.6, 101.2, 136.1, 114.8, 136.1,\n",
    "                   141.1, 96.2, 93.0, 106.6, 138.3, 138.3, 95.3, 81.6, 144.7, 86.6, \n",
    "                   106.1, 131.5, 138.3, 142.4, 143.3, 142.9, 107.0, 136.1, 148.3, 85.7,\n",
    "                   104.3, 106.6, 98.0, 83.9, 142.4, 155.6, 83.5, 124.7, 76.2, 87.1, \n",
    "                   145.1, 97.5, 130.2, 101.6, 104.8, 90.7, 92.5, 86.2, 140.6, 133.8, \n",
    "                   102.1, 98.4, 100.2, 113.4, 122.5, 77.1, 90.7, 100.7, 93.4, 108.9, \n",
    "                   152.0, 91.6, 118.4, 88.9, 95.3, 98.9, 108.9, 88.5, 127.0, 137.4, \n",
    "                   102.1, 112.5, 120.2, 136.1, 116.1, 115.2, 141.1, 115.7, 88.5, 92.5, \n",
    "                   99.8, 108.9, 145.1, 94.8, 108.9, 99.3, 104.8, 137.9, 109.3, 108.4, \n",
    "                   113.9]\n",
    "\n",
    "packers = pd.DataFrame()\n",
    "packers['alturas'] = [1.88, 1.91, 1.83, 1.88, 1.8, 1.85, 1.98, 1.93, 1.96, 1.96, \n",
    "                      1.88, 1.88, 1.91, 1.88, 1.85, 1.8, 1.83, 1.93, 1.96, 1.93, \n",
    "                      1.96, 1.8, 1.88, 1.98, 1.96, 1.8, 1.85, 1.93, 1.88, 1.8, \n",
    "                      1.91, 1.96, 1.91, 2.01, 1.91, 1.91, 1.96, 1.98, 1.91, 1.93, \n",
    "                      1.91, 1.91, 1.96, 1.98, 1.98, 1.96, 1.91, 1.93, 1.88, 1.91, \n",
    "                      1.91, 1.85, 1.75, 1.98, 1.96, 1.83, 1.83, 1.93, 1.83, 1.8, \n",
    "                      1.96, 1.93, 1.96, 1.78, 1.85, 1.83, 1.91, 1.88, 1.93, 1.8, \n",
    "                      1.98, 1.91, 1.91, 1.98, 1.93, 1.83, 1.83, 1.83, 1.96, 1.88, \n",
    "                      1.93, 1.83, 1.83, 1.78, 1.93, 1.85, 1.93, 1.96, 1.88, 1.85, \n",
    "                      1.91]\n",
    "packers['pesos'] = [136.1, 110.7, 96.6, 87.5, 96.2, 109.3, 142.9, 93.4, 140.6, 107.5, \n",
    "                    98.4, 98.0, 147.0, 88.9, 109.3, 85.7, 96.2, 143.3, 97.1, 123.4, \n",
    "                    120.2, 84.4, 91.6, 94.3, 111.6, 89.8, 84.8, 139.3, 102.1, 84.4, \n",
    "                    108.0, 130.2, 142.0, 142.4, 107.5, 108.9, 139.7, 134.3, 102.1, 99.3, \n",
    "                    130.2, 136.5, 140.2, 121.1, 136.5, 103.0, 142.0, 94.8, 106.6, 90.7, \n",
    "                    130.6, 115.7, 94.3, 136.5, 141.1, 88.9, 88.9, 134.3, 92.5, 89.4, \n",
    "                    125.6, 116.6, 103.9, 87.1, 84.8, 112.0, 89.8, 108.0, 108.9, 102.1, \n",
    "                    139.3, 142.4, 105.7, 135.2, 105.2, 103.4, 92.5, 90.7, 113.4, 103.9, \n",
    "                    140.6, 86.2, 97.1, 88.9, 137.9, 97.5, 113.9, 117.0, 137.9, 93.9, \n",
    "                    109.3]\n",
    "\n",
    "ravens = pd.DataFrame()\n",
    "ravens['alturas'] = [1.91, 1.96, 1.93, 1.91, 1.85, 1.93, 1.91, 1.91, 1.96, 1.75, \n",
    "                     1.85, 1.75, 1.78, 1.78, 1.98, 1.8, 1.8, 1.88, 1.91, 1.96, \n",
    "                     1.96, 1.88, 1.88, 1.8, 1.91, 1.83, 1.85, 1.8, 1.98, 1.93, \n",
    "                     1.96, 1.96, 1.83, 1.96, 1.91, 1.88, 1.8, 1.85, 1.8, 1.93, \n",
    "                     1.83, 1.91, 1.85, 1.85, 1.91, 1.8, 1.85, 1.91, 1.88, 1.75, \n",
    "                     1.85, 1.83, 2.01, 1.78, 1.83, 1.91, 1.88, 1.83, 1.96, 1.96, \n",
    "                     1.88, 1.85, 1.98, 1.85, 1.8, 1.75, 1.78, 1.96, 1.8, 1.88, \n",
    "                     1.96, 1.85, 1.93, 1.91, 1.83, 2.03, 2.03, 1.75, 1.98, 1.96, \n",
    "                     1.91, 1.93, 1.93, 1.91, 1.73, 1.88, 1.8, 1.96, 1.91, 1.98, \n",
    "                     1.96, 1.96, 1.85]\n",
    "ravens['pesos'] = [138.3, 129.3, 108.0, 114.3, 152.4, 93.4, 108.4, 138.3, 130.2, 85.3, \n",
    "                   83.0, 83.9, 91.6, 95.3, 142.9, 93.0, 88.9, 95.3, 142.0, 95.3, \n",
    "                   112.9, 108.9, 118.8, 95.3, 141.1, 104.3, 103.0, 87.5, 141.1, 140.6, \n",
    "                   146.1, 156.5, 88.5, 115.7, 89.4, 112.5, 86.6, 90.7, 83.0, 139.7, \n",
    "                   91.6, 120.2, 95.3, 87.1, 132.9, 93.9, 100.7, 118.4, 96.2, 97.5, \n",
    "                   93.0, 89.4, 149.7, 90.7, 79.4, 112.0, 96.6, 105.2, 155.1, 124.7, \n",
    "                   158.8, 95.3, 140.6, 108.0, 95.3, 82.1, 96.2, 147.4, 93.9, 108.9, \n",
    "                   136.1, 142.9, 106.6, 142.0, 93.0, 136.1, 156.5, 77.1, 114.3, 143.3,\n",
    "                   143.8, 122.5, 99.8, 109.8, 82.6, 103.9, 80.7, 116.1, 108.4, 113.4, \n",
    "                   115.2, 157.4, 89.4]\n",
    "\n",
    "patriots = pd.DataFrame()\n",
    "patriots['alturas'] = [1.83, 1.88, 1.88, 1.96, 1.91, 1.91, 1.78, 1.88, 1.91, 1.93, \n",
    "                       1.96, 1.78, 1.68, 1.91, 1.85, 1.83, 1.88, 1.88, 1.75, 1.75, \n",
    "                       1.91, 1.96, 1.73, 1.83, 1.8, 1.8, 1.91, 1.83, 1.96, 1.93, \n",
    "                       1.8, 1.88, 1.93, 1.8, 1.78, 1.85, 1.83, 1.91, 1.88, 1.93, \n",
    "                       1.78, 1.91, 1.91, 1.85, 1.96, 1.88, 1.96, 1.78, 1.93, 1.8, \n",
    "                       1.8, 1.88, 1.93, 1.85, 1.88, 1.96, 1.93, 1.78, 1.88, 1.88, \n",
    "                       1.98, 1.91, 1.91, 1.96, 1.91, 1.93, 1.96, 1.75, 1.96, 1.91, \n",
    "                       1.78, 1.75, 1.8, 1.96, 1.83, 1.93, 1.88, 1.88, 1.91, 1.91, \n",
    "                       1.91, 1.91]\n",
    "patriots['pesos'] = [86.2, 140.6, 132.0, 124.7, 113.4, 96.2, 93.0, 138.3, 102.5, 138.3, \n",
    "                     139.7, 78.9, 83.9, 97.5, 98.9, 93.0, 117.9, 95.3, 87.1, 86.2, \n",
    "                     104.3, 113.4, 80.7, 88.9, 89.8, 95.3, 158.8, 86.2, 111.1, 120.2, \n",
    "                     97.5, 90.7, 101.6, 88.5, 88.5, 140.6, 112.5, 98.0, 99.8, 113.9, \n",
    "                     86.2, 115.7, 117.5, 89.8, 115.7, 98.0, 138.3, 78.9, 102.1, 106.1, \n",
    "                     96.6, 106.6, 142.9, 91.6, 92.1, 140.6, 152.0, 89.8, 99.8, 92.1, \n",
    "                     141.1, 136.1, 119.3, 132.0, 111.1, 117.9, 140.6, 81.6, 136.1, 117.9, \n",
    "                     97.5, 83.9, 93.0, 113.4, 90.7, 115.7, 115.7, 93.0, 116.6, 136.1, \n",
    "                     148.3, 90.7]\n",
    "\n",
    "# Sumo\n",
    "\n",
    "sumo = pd.DataFrame()\n",
    "sumo['alturas'] = [1.92, 1.78, 1.82, 1.75, 1.78, 1.95, 1.91, 1.91, 1.85, 1.84,\n",
    "                   1.95, 1.93, 1.92, 1.82, 1.85, 1.81, 1.91, 1.89, 1.78, 1.69,\n",
    "                   1.85, 1.69, 1.87, 1.84, 1.78, 1.79, 1.85, 1.85, 1.88, 1.84,\n",
    "                   1.80, 1.92, 1.87, 1.82, 1.90, 1.89, 1.81, 1.83]\n",
    "sumo['pesos'] = [201, 133, 124, 111, 161, 201, 173, 165, 170, 140,\n",
    "                 171, 163, 194, 188, 157, 178, 153, 169, 130, 120,\n",
    "                 175,  96, 172, 162, 155, 190, 168, 135, 172, 165, \n",
    "                 175, 180, 152, 164, 160, 169, 188, 150]"
   ]
  },
  {
   "cell_type": "markdown",
   "metadata": {},
   "source": [
    "### Listas de equipos y nombres"
   ]
  },
  {
   "cell_type": "code",
   "execution_count": null,
   "metadata": {},
   "outputs": [],
   "source": [
    "equipos = [bucks, clippers, lakers, raptors,\n",
    "           barcelona, bayern, juventus, madrid,\n",
    "           packers, patriots, ravens, saints,\n",
    "           sumo]\n",
    "\n",
    "nombres = ['Bucks', 'Clippers', 'Lakers', 'Raptors', \n",
    "           'Barcelona', 'Bayern', 'Juventus', 'Madrid',\n",
    "           'Packers', 'Patriots', 'Ravens', 'Saints',\n",
    "           'Sumo']"
   ]
  },
  {
   "cell_type": "markdown",
   "metadata": {},
   "source": [
    "## 6.5 Gráfica de pesos versus alturas por deporte"
   ]
  },
  {
   "cell_type": "code",
   "execution_count": null,
   "metadata": {},
   "outputs": [],
   "source": [
    "listas = [[bucks, clippers, lakers, raptors],\n",
    "          [barcelona, bayern, juventus, madrid],\n",
    "          [packers, patriots, ravens, saints],\n",
    "          [sumo]]\n",
    "\n",
    "colores = ['bo', 'go', 'ro', 'co']\n",
    "\n",
    "for indice, lista in enumerate(listas): # crea pares de índices y valores\n",
    "    \n",
    "    alturas = []\n",
    "    pesos = []\n",
    "    \n",
    "    # compone una lista por deporte con los elementos de las listas de equipos\n",
    "    for equipo in lista:\n",
    "        alturas.extend(equipo['alturas'])\n",
    "        pesos.extend(equipo['pesos'])\n",
    "    \n",
    "    plt.plot(alturas, pesos, colores[indice])\n",
    "\n",
    "plt.title('Pesos versus alturas por deportes')\n",
    "plt.xlabel('Alturas')\n",
    "plt.ylabel('Pesos')\n",
    "plt.legend(['Baloncesto', 'Fútbol', 'Fútbol americano', 'Sumo'])\n",
    "\n",
    "plt.show()"
   ]
  },
  {
   "cell_type": "markdown",
   "metadata": {},
   "source": [
    "## 6.6 Comparaciones de cajas con bigotes"
   ]
  },
  {
   "cell_type": "code",
   "execution_count": null,
   "metadata": {},
   "outputs": [],
   "source": [
    "def cajas(equipos, atributo, nombres, dimensiones=(8, 4)):\n",
    "    \"\"\"\n",
    "    Muestra cajas con bigotes de un atributo de equipos.\n",
    "    \"\"\"\n",
    "    lista = []\n",
    "    for equipo in equipos:\n",
    "        lista.append(equipo[atributo])\n",
    "\n",
    "    plt.figure(figsize=dimensiones)\n",
    "        \n",
    "    plt.boxplot(lista)\n",
    "    plt.xticks(range(1, len(nombres) + 1), nombres)\n",
    "    plt.title(atributo.capitalize())\n",
    "    plt.grid()\n",
    "    plt.show()"
   ]
  },
  {
   "cell_type": "code",
   "execution_count": null,
   "metadata": {},
   "outputs": [],
   "source": [
    "cajas(equipos, 'alturas', nombres, (16, 4))"
   ]
  },
  {
   "cell_type": "code",
   "execution_count": null,
   "metadata": {},
   "outputs": [],
   "source": [
    "cajas(equipos, 'pesos', nombres, (16, 4))"
   ]
  },
  {
   "cell_type": "code",
   "execution_count": null,
   "metadata": {},
   "outputs": [],
   "source": [
    "agrega_imc(equipos)\n",
    "cajas(equipos, 'imc', nombres, (16, 4))"
   ]
  },
  {
   "cell_type": "code",
   "execution_count": null,
   "metadata": {},
   "outputs": [],
   "source": [
    "tabla = porcentajes_imc(equipos, nombres).T\n",
    "tabla"
   ]
  },
  {
   "cell_type": "code",
   "execution_count": null,
   "metadata": {},
   "outputs": [],
   "source": [
    "barras_imc(tabla, nombres, dimensiones=(16, 4))"
   ]
  },
  {
   "cell_type": "markdown",
   "metadata": {},
   "source": [
    "## Más información\n",
    "Puedes conseguir ayuda en inglés escribiendo los siguientes textos en una celda seguidos de ? o como argumentos de **help()**:\n",
    "```python\n",
    "list.extend\n",
    "\n",
    "pd.DataFrame.T\n",
    "\n",
    "plt.figure\n",
    "\n",
    "enumerate\n",
    "```"
   ]
  },
  {
   "cell_type": "markdown",
   "metadata": {},
   "source": [
    "<a id='tarea7'></a>\n",
    "<br><img src=\"linea.png\">\n",
    "# [Tarea 7](#inicio)\n",
    "# Almacenando y leyendo archivos\n",
    "<br><img src=\"linea.png\"><br>"
   ]
  },
  {
   "cell_type": "markdown",
   "metadata": {},
   "source": [
    "## 7.1 Guardado y leyendo archivos "
   ]
  },
  {
   "cell_type": "code",
   "execution_count": null,
   "metadata": {},
   "outputs": [],
   "source": [
    "sumo"
   ]
  },
  {
   "cell_type": "markdown",
   "metadata": {},
   "source": [
    "### Guardar datos en archivos CSV "
   ]
  },
  {
   "cell_type": "code",
   "execution_count": null,
   "metadata": {},
   "outputs": [],
   "source": [
    "# guarda el archivo sin incluir la columna de índices\n",
    "sumo.to_csv('sumo.csv', index = False)"
   ]
  },
  {
   "cell_type": "markdown",
   "metadata": {},
   "source": [
    "### Leer datos desde archivos CSV"
   ]
  },
  {
   "cell_type": "code",
   "execution_count": null,
   "metadata": {},
   "outputs": [],
   "source": [
    "archivo_sumo = pd.read_csv('sumo.csv')\n",
    "archivo_sumo"
   ]
  },
  {
   "cell_type": "markdown",
   "metadata": {},
   "source": [
    "### Conservar índices de tablas"
   ]
  },
  {
   "cell_type": "code",
   "execution_count": null,
   "metadata": {},
   "outputs": [],
   "source": [
    "tabla_sumo = tabla_de_frecuencias(archivo_sumo['pesos'], 95, 205, 10, 'pesos')\n",
    "tabla_sumo"
   ]
  },
  {
   "cell_type": "code",
   "execution_count": null,
   "metadata": {},
   "outputs": [],
   "source": [
    "# guarda el archivo incluyendo índices y columnas\n",
    "tabla_sumo.to_csv('tabla_sumo.csv')"
   ]
  },
  {
   "cell_type": "code",
   "execution_count": null,
   "metadata": {},
   "outputs": [],
   "source": [
    "pd.read_csv(\"tabla_sumo.csv\")"
   ]
  },
  {
   "cell_type": "code",
   "execution_count": null,
   "metadata": {},
   "outputs": [],
   "source": [
    "# fija el índice con la primera columna de datos\n",
    "tabla = pd.read_csv(\"tabla_sumo.csv\", index_col = 0)\n",
    "tabla"
   ]
  },
  {
   "cell_type": "markdown",
   "metadata": {},
   "source": [
    "## 7.2 Descargando datos de Internet"
   ]
  },
  {
   "cell_type": "code",
   "execution_count": null,
   "metadata": {},
   "outputs": [],
   "source": [
    "# NCD Risk Factor Collaboration (NCD-RisC) , http://ncdrisc.org/\n",
    "bmi = pd.read_csv(\"http://ncdrisc.org/downloads/bmi/NCD_RisC_Lancet_2017_BMI_age_standardised_world.csv\",\n",
    "                 engine='python')  # método para formatear los datos\n",
    "\n",
    "# primeras cinco filas de datos\n",
    "bmi.head()"
   ]
  },
  {
   "cell_type": "code",
   "execution_count": null,
   "metadata": {},
   "outputs": [],
   "source": [
    "# una nueva tabla con tres columnas de datos\n",
    "bmi = bmi[['Sex', 'Year', 'Mean BMI']]\n",
    "\n",
    "# primeras cinco filas\n",
    "bmi.head()"
   ]
  },
  {
   "cell_type": "code",
   "execution_count": null,
   "metadata": {},
   "outputs": [],
   "source": [
    "# últimas cinco filas\n",
    "bmi.tail()"
   ]
  },
  {
   "cell_type": "code",
   "execution_count": null,
   "metadata": {},
   "outputs": [],
   "source": [
    "# cuenta los datos por género\n",
    "bmi.groupby('Sex').count()"
   ]
  },
  {
   "cell_type": "code",
   "execution_count": null,
   "metadata": {},
   "outputs": [],
   "source": [
    "# describe la tabla para datos numéricos y nominales\n",
    "bmi.describe(include='all')"
   ]
  },
  {
   "cell_type": "markdown",
   "metadata": {},
   "source": [
    "## 7.3 Promedios mundiales de IMC de hombres y mujeres"
   ]
  },
  {
   "cell_type": "code",
   "execution_count": null,
   "metadata": {},
   "outputs": [],
   "source": [
    "# dimensiones de la figura\n",
    "plt.figure(figsize=(12, 4))\n",
    "\n",
    "# valores promedios de IMC desde 1975 hasta 2016\n",
    "\n",
    "hombres = bmi[bmi['Sex'] == 'Men']['Mean BMI']\n",
    "mujeres = bmi[bmi['Sex'] == 'Women']['Mean BMI']\n",
    "\n",
    "plt.plot(range(1975, 2017), hombres, 'r')\n",
    "plt.plot(range(1975, 2017), mujeres, 'b')\n",
    "\n",
    "# marcas cada tres años y marca final de 2016\n",
    "plt.xticks(list(range(1975, 2017, 3)) + [2016])\n",
    "plt.xlim(1975, 2016)\n",
    "\n",
    "plt.legend(['Hombres', 'Mujeres'])\n",
    "\n",
    "plt.title('Promedios mundiales anuales de IMC de mujeres y hombres, http://ncdrisc.org')\n",
    "plt.xlabel('Años')\n",
    "plt.ylabel('Promedios IMC')\n",
    "plt.grid()\n",
    "plt.show()"
   ]
  },
  {
   "cell_type": "markdown",
   "metadata": {},
   "source": [
    "## 7.4 Comparaciones de IMC entre países"
   ]
  },
  {
   "cell_type": "code",
   "execution_count": null,
   "metadata": {},
   "outputs": [],
   "source": [
    "def linea_de_tiempo_de_imc(un_pais, otro_pais, paisA=\"\", paisB=\"\"):\n",
    "    \"\"\"\n",
    "    Línea de tiempo de promedios de índices de masas corporales de dos países\n",
    "    entre 1975 y 2016. Fuente: http://ncdrisc.org\n",
    "    \"\"\"\n",
    "    plt.figure(figsize=(12, 4))\n",
    "    ticks = range(1975, 2017)\n",
    "\n",
    "    color = ['r', 'b', 'g', 'y']\n",
    "    indice = 0\n",
    "\n",
    "    for pais in [un_pais, otro_pais]:\n",
    "    \n",
    "        # para obtener el URL base se pulsa click derecho en el botón \n",
    "        # Download de la página de descarga de los datos y luego se copia el enlace\n",
    "        url = \"http://ncdrisc.org/downloads/bmi/adult_country/NCD_RisC_Lancet_2017_BMI_age_standardised_\"\n",
    "        \n",
    "        # agrega el nombre del país reemplazando espacios por %20 para formar un enlace válido,\n",
    "        # y luego la extensión .csv\n",
    "        url += pais.replace(\" \", \"%20\") + \".csv\"\n",
    "        \n",
    "        # lee el archivo en el objeto imc\n",
    "        imc = pd.read_csv(url, engine='python')\n",
    "        \n",
    "        # toma los promedios anuales de imc de hombres y mujeres\n",
    "        hombres = imc[imc['Sex'] == 'Men']['Mean BMI']\n",
    "        mujeres = imc[imc['Sex'] == 'Women']['Mean BMI']\n",
    "        \n",
    "        # grafica los datos, con los colores indizados de la lista color\n",
    "        plt.plot(ticks, hombres, color[2*indice])\n",
    "        plt.plot(ticks, mujeres, color[2*indice + 1])\n",
    "        \n",
    "        indice = indice + 1\n",
    "\n",
    "    # marcas desde 1975 hasta antes de 2017 de 3 en 3, y marca de 2016 final\n",
    "    plt.xticks(list(range(1975, 2017, 3)) + [2016])\n",
    "    plt.xlim(1975, 2016)\n",
    "\n",
    "    # si el nombre paisA está vacío se utiliza el primer nombre de país\n",
    "    if paisA == \"\":\n",
    "        paisA = un_pais\n",
    "\n",
    "    # si el nombre paisB está vacío se utiliza el segundo nombre de país\n",
    "    if paisB == \"\":\n",
    "        paisB = otro_pais\n",
    "    \n",
    "    # los identificadores de países y géneros\n",
    "    plt.legend(['Hombres de ' + paisA, 'Mujeres de ' + paisA,\n",
    "                'Hombres de ' + paisB, 'Mujeres de ' + paisB])\n",
    "\n",
    "    plt.title('(http://ncdrisc.org) Promedios anuales IMC de mujeres y hombres de ' + paisA + ' y ' + paisB)\n",
    "    \n",
    "    plt.xlabel('Años')\n",
    "    plt.ylabel('Promedios de IMC')\n",
    "    plt.grid()\n",
    "    plt.show()"
   ]
  },
  {
   "cell_type": "markdown",
   "metadata": {},
   "source": [
    "#### Nombres de países\n",
    "Afghanistan, Albania, Algeria, American Samoa, Andorra, Angola, Antigua and Barbuda, Argentina, Armenia, Australia, Austria, Azerbaijan, Bahamas, Bahrain, Bangladesh, Barbados, Belarus, Belgium, Belize, Benin, Bermuda, Bhutan, Bolivia, Bosnia and Herzegovina, Botswana, Brazil, Brunei Darussalam, Bulgaria, Burkina Faso, Burundi, Cabo Verde, Cambodia, Cameroon, Canada, Central African Republic, Chad, Chile, China, China (Hong Kong SAR), Colombia, Comoros, Congo, Cook Islands, Costa Rica, Cote d'Ivoire, Croatia, Cuba, Cyprus, Czech Republic, DR Congo, Denmark, Djibouti, Dominica, Dominican Republic, Ecuador, Egypt, El Salvador, Equatorial Guinea, Eritrea, Estonia, Ethiopia, Fiji, Finland, France, French Polynesia, Gabon, Gambia, Georgia, Germany, Ghana, Greece, Greenland, Grenada, Guatemala, Guinea, Guinea Bissau, Guyana, Haiti, Honduras, Hungary, Iceland, India, Indonesia, Iran, Iraq, Ireland, Israel, Italy, Jamaica, Japan, Jordan, Kazakhstan, Kenya, Kiribati, Kuwait, Kyrgyzstan, Lao PDR, Latvia, Lebanon, Lesotho, Liberia, Libya, Lithuania, Luxembourg, Macedonia (TFYR), Madagascar, Malawi, Malaysia, Maldives, Mali, Malta, Marshall Islands, Mauritania, Mauritius, Mexico, Micronesia (Federated States of), Moldova, Mongolia, Montenegro, Morocco, Mozambique, Myanmar, Namibia, Nauru, Nepal, Netherlands, New Zealand, Nicaragua, Niger, Nigeria, Niue, North Korea, Norway, Occupied Palestinian Territory, Oman, Pakistan, Palau, Panama, Papua New Guinea, Paraguay, Peru, Philippines, Poland, Portugal, Puerto Rico, Qatar, Romania, Russian Federation, Rwanda, Saint Kitts and Nevis, Saint Lucia, Saint Vincent and the Grenadines, Samoa, Sao Tome and Principe, Saudi Arabia, Senegal, Serbia, Seychelles, Sierra Leone, Singapore, Slovakia, Slovenia, Solomon Islands, Somalia, South Africa, South Korea, Spain, Sri Lanka, Sudan, Suriname, Swaziland, Sweden, Switzerland, Syrian Arab Republic, Taiwan, Tajikistan, Tanzania, Thailand, Timor-Leste, Togo, Tokelau, Tonga, Trinidad and Tobago, Tunisia, Turkey, Turkmenistan, Tuvalu, Uganda, Ukraine, United Arab Emirates, United Kingdom, United States of America, Uruguay, Uzbekistan, Vanuatu, Venezuela, Viet Nam, Yemen, Zambia, Zimbabwe"
   ]
  },
  {
   "cell_type": "code",
   "execution_count": null,
   "metadata": {},
   "outputs": [],
   "source": [
    "linea_de_tiempo_de_imc('United States of America', 'Russian Federation', 'Estados Unidos', 'Rusia')"
   ]
  },
  {
   "cell_type": "markdown",
   "metadata": {},
   "source": [
    "## Más información\n",
    "Puedes conseguir ayuda en inglés escribiendo los siguientes textos en una celda seguidos de ? o como argumentos de **help()**:\n",
    "```python\n",
    "pd.DataFrame.to_csv, pd.DataFrame.describe, pd.DataFrame.head, pd.DataFrame.tail\n",
    "pd.read_csv, pd.Series.describe, pd.Series.head, pd.Series.tail\n",
    "\n",
    "plt.figure, plt.xlim\n",
    "\n",
    "str.replace\n",
    "```"
   ]
  },
  {
   "cell_type": "code",
   "execution_count": null,
   "metadata": {},
   "outputs": [],
   "source": []
  }
 ],
 "metadata": {
  "kernelspec": {
   "display_name": "Python 3",
   "language": "python",
   "name": "python3"
  },
  "language_info": {
   "codemirror_mode": {
    "name": "ipython",
    "version": 3
   },
   "file_extension": ".py",
   "mimetype": "text/x-python",
   "name": "python",
   "nbconvert_exporter": "python",
   "pygments_lexer": "ipython3",
   "version": "3.7.6"
  }
 },
 "nbformat": 4,
 "nbformat_minor": 2
}
